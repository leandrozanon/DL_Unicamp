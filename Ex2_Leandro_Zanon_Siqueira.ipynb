{
  "nbformat": 4,
  "nbformat_minor": 0,
  "metadata": {
    "kernelspec": {
      "display_name": "Python 3",
      "language": "python",
      "name": "python3"
    },
    "language_info": {
      "codemirror_mode": {
        "name": "ipython",
        "version": 3
      },
      "file_extension": ".py",
      "mimetype": "text/x-python",
      "name": "python",
      "nbconvert_exporter": "python",
      "pygments_lexer": "ipython3",
      "version": "3.6.5"
    },
    "toc": {
      "base_numbering": 1,
      "nav_menu": {
        "height": "354px",
        "width": "252px"
      },
      "number_sections": true,
      "sideBar": true,
      "skip_h1_title": false,
      "title_cell": "Table of Contents",
      "title_sidebar": "Contents",
      "toc_cell": false,
      "toc_position": {},
      "toc_section_display": "block",
      "toc_window_display": false
    },
    "varInspector": {
      "cols": {
        "lenName": 16,
        "lenType": 16,
        "lenVar": 40
      },
      "kernels_config": {
        "python": {
          "delete_cmd_postfix": "",
          "delete_cmd_prefix": "del ",
          "library": "var_list.py",
          "varRefreshCmd": "print(var_dic_list())"
        },
        "r": {
          "delete_cmd_postfix": ") ",
          "delete_cmd_prefix": "rm(",
          "library": "var_list.r",
          "varRefreshCmd": "cat(var_dic_list()) "
        }
      },
      "types_to_exclude": [
        "module",
        "function",
        "builtin_function_or_method",
        "instance",
        "_Feature"
      ],
      "window_display": false
    },
    "colab": {
      "name": "Ex2 Leandro Zanon Siqueira.ipynb",
      "provenance": [],
      "collapsed_sections": [
        "NUsqYALqeDij",
        "KFYP4jUPeDil",
        "61BDrHC2eDin",
        "k3Rwa7fgS__6",
        "KKHKQJo5eDkQ",
        "v6XnHJPReDkU",
        "86JP18lfeDkY",
        "hxPVfMLAeDkb",
        "-D4i7WhceDki",
        "bOcP0lBveDkn",
        "gbFq-LWNeDko",
        "5nfiS3UgeDkr",
        "IHuFI5RKeDks",
        "nOi6QDcqeDk1",
        "tasiyC2QeDk4",
        "ansV5TGMeDlA",
        "cTtocpKGeDlB",
        "yqCQvJeeeDlH",
        "zMGMB37DeDlM",
        "DQ_BpGqteDlM",
        "pL86ukPTUMFx",
        "2iI7udBFeDlP",
        "JtgSAAKjUfcO",
        "cbXIXsDIUmtp",
        "GF_P_GARU62m",
        "XHLmfzVreDle",
        "oly_fD5RWNFZ",
        "BDqYq2ymWRWq",
        "Ltb2QihyeDlm",
        "P916bdpneDln",
        "nbYr1dVcd7Rl",
        "ZWB_BBggeDlz",
        "49yeX7UpeDl1",
        "7J5n1UiheDl5",
        "G6lt3BgVeDmA",
        "rtxCGlQKeDmA",
        "pRur77ojeDmB",
        "g113cvI5Sq2k"
      ],
      "toc_visible": true,
      "include_colab_link": true
    }
  },
  "cells": [
    {
      "cell_type": "markdown",
      "metadata": {
        "id": "view-in-github",
        "colab_type": "text"
      },
      "source": [
        "<a href=\"https://colab.research.google.com/github/leandrozanon/DL_Unicamp/blob/master/Ex2_Leandro_Zanon_Siqueira.ipynb\" target=\"_parent\"><img src=\"https://colab.research.google.com/assets/colab-badge.svg\" alt=\"Open In Colab\"/></a>"
      ]
    },
    {
      "cell_type": "markdown",
      "metadata": {
        "id": "NUsqYALqeDij",
        "colab_type": "text"
      },
      "source": [
        "# Curso Deep Learning - Exercício pré-curso NumPy"
      ]
    },
    {
      "cell_type": "markdown",
      "metadata": {
        "id": "dCImmucreDil",
        "colab_type": "text"
      },
      "source": [
        "Este é um notebook Jupyter contendo exercícios de programação matricial utilizando o Python e biblioteca NumPy.\n",
        "Estes exercícios servem para verificar os conhecimentos da linguagem Python para manipulação matricial com a biblioteca NumPy.\n",
        "\n",
        "Esta lista de exercício é um guia de estudo. Para fazer os exercícios será necessário estudar o NumPy e consultar documentação e tutoriais disponíveis na Internet."
      ]
    },
    {
      "cell_type": "markdown",
      "metadata": {
        "id": "KFYP4jUPeDil",
        "colab_type": "text"
      },
      "source": [
        "### Python"
      ]
    },
    {
      "cell_type": "markdown",
      "metadata": {
        "id": "m4y_0BiqeDim",
        "colab_type": "text"
      },
      "source": [
        "Recomenda-se utilizar o Google Colab para fazer esses exercícios (https://colab.research.google.com/) pois o curso será oferecido nele. A vantagem do Colab é ser uma plataforma gratuito que permite o uso de GPU, fundamental para a realização dos exercícios de deep learning.\n"
      ]
    },
    {
      "cell_type": "markdown",
      "metadata": {
        "id": "61BDrHC2eDin",
        "colab_type": "text"
      },
      "source": [
        "### Jupyter notebook"
      ]
    },
    {
      "cell_type": "markdown",
      "metadata": {
        "id": "Yc340OOqeDio",
        "colab_type": "text"
      },
      "source": [
        "Este é um Notebook Jupyter. Um notebook Jupyter é uma mistura de linguagem Markdown para formatar texto (como uma Wiki) e um programa Python. É muito usado entre as pessoas que trabalham com Data Science e Machine Learning em Python.\n"
      ]
    },
    {
      "cell_type": "markdown",
      "metadata": {
        "id": "qQduOjP1eDip",
        "colab_type": "text"
      },
      "source": [
        "Você pode adicionar quantas células quiser neste notebook para deixar suas respostas bem organizadas."
      ]
    },
    {
      "cell_type": "markdown",
      "metadata": {
        "id": "ZfPpxsS_eDkB",
        "colab_type": "text"
      },
      "source": [
        "# Exercícios usando NumPy"
      ]
    },
    {
      "cell_type": "markdown",
      "metadata": {
        "id": "y7PzyzOUeDkB",
        "colab_type": "text"
      },
      "source": [
        "Os seguintes exercícios devem usar apenas o pacote NumPy.\n",
        "Não se deve utilizar nenhum outro pacote adicional.\n",
        "O NumPy é o pacote que faz o Python apropriado para programação científica.\n",
        "A programação eficiente de matrizes multidimensionais (arrays ou tensores) é\n",
        "feita através do conceito de programação matricial que evita o uso de laços\n",
        "e iterações nos elementos da matriz.\n",
        "\n",
        "Existem vários exemplos de uso de NumPy no conjunto de\n",
        "notebooks tutorias disponíveis no GitHub:\n",
        "- https://github.com/robertoalotufo/ia898/blob/master/master/0_index.ipynb"
      ]
    },
    {
      "cell_type": "markdown",
      "metadata": {
        "id": "k3Rwa7fgS__6",
        "colab_type": "text"
      },
      "source": [
        "## Preencha o seu nome"
      ]
    },
    {
      "cell_type": "code",
      "metadata": {
        "id": "z4Sx7P24S17-",
        "colab_type": "code",
        "colab": {
          "base_uri": "https://localhost:8080/",
          "height": 34
        },
        "outputId": "ae38b628-0a03-4b3d-a1dd-aa15e20dc063"
      },
      "source": [
        "print('Meu nome é: Leandro Zanon Siqueira')"
      ],
      "execution_count": 2,
      "outputs": [
        {
          "output_type": "stream",
          "text": [
            "Meu nome é: Leandro Zanon Siqueira\n"
          ],
          "name": "stdout"
        }
      ]
    },
    {
      "cell_type": "code",
      "metadata": {
        "ExecuteTime": {
          "end_time": "2019-12-10T17:56:40.132948Z",
          "start_time": "2019-12-10T17:56:39.750654Z"
        },
        "id": "E3GfnJKZeDkC",
        "colab_type": "code",
        "colab": {}
      },
      "source": [
        "import numpy as np"
      ],
      "execution_count": 3,
      "outputs": []
    },
    {
      "cell_type": "markdown",
      "metadata": {
        "id": "m2xEXSHreDkF",
        "colab_type": "text"
      },
      "source": [
        "Veja como é possível criar um array unidimensional e depois reformatá-lo para ser acessado como array bidimensional:"
      ]
    },
    {
      "cell_type": "code",
      "metadata": {
        "ExecuteTime": {
          "end_time": "2019-12-10T17:56:40.162562Z",
          "start_time": "2019-12-10T17:56:40.137973Z"
        },
        "id": "13rOvqqAeDkG",
        "colab_type": "code",
        "colab": {
          "base_uri": "https://localhost:8080/",
          "height": 51
        },
        "outputId": "6d2f8a99-67dc-49ef-c182-c14b7f236e0a"
      },
      "source": [
        "array = np.arange(10)\n",
        "print(array)\n",
        "print(array.shape)"
      ],
      "execution_count": 4,
      "outputs": [
        {
          "output_type": "stream",
          "text": [
            "[0 1 2 3 4 5 6 7 8 9]\n",
            "(10,)\n"
          ],
          "name": "stdout"
        }
      ]
    },
    {
      "cell_type": "code",
      "metadata": {
        "ExecuteTime": {
          "end_time": "2019-12-10T17:56:40.182478Z",
          "start_time": "2019-12-10T17:56:40.169365Z"
        },
        "id": "F4b5LvQ9eDkI",
        "colab_type": "code",
        "colab": {
          "base_uri": "https://localhost:8080/",
          "height": 102
        },
        "outputId": "58b6b4cb-0620-4160-bbed-55447bcb19eb"
      },
      "source": [
        "A = np.arange(24).reshape(4, 6)\n",
        "print(A)\n",
        "print(A.shape)"
      ],
      "execution_count": 5,
      "outputs": [
        {
          "output_type": "stream",
          "text": [
            "[[ 0  1  2  3  4  5]\n",
            " [ 6  7  8  9 10 11]\n",
            " [12 13 14 15 16 17]\n",
            " [18 19 20 21 22 23]]\n",
            "(4, 6)\n"
          ],
          "name": "stdout"
        }
      ]
    },
    {
      "cell_type": "markdown",
      "metadata": {
        "id": "KKHKQJo5eDkQ",
        "colab_type": "text"
      },
      "source": [
        "### Exercício: imprimindo rows, cols, dimensions, shape and datatype"
      ]
    },
    {
      "cell_type": "code",
      "metadata": {
        "ExecuteTime": {
          "end_time": "2019-12-10T17:56:40.199596Z",
          "start_time": "2019-12-10T17:56:40.186175Z"
        },
        "id": "u3gXSBoaeDkR",
        "colab_type": "code",
        "colab": {
          "base_uri": "https://localhost:8080/",
          "height": 102
        },
        "outputId": "82220087-e0ea-4c94-9d01-7a8a20f65cbe"
      },
      "source": [
        "# imprima o número de linhas de A\n",
        "print(A.shape[0])\n",
        "# imprima o número de colunas de A\n",
        "print(A.shape[1])\n",
        "# imprima o número de dimensões de A\n",
        "print(A.ndim)\n",
        "# imprima o shape de A:\n",
        "print(A.shape)\n",
        "# imprima o tipo de dados (dtype) dos elementos de A:\n",
        "print(A.dtype)"
      ],
      "execution_count": 6,
      "outputs": [
        {
          "output_type": "stream",
          "text": [
            "4\n",
            "6\n",
            "2\n",
            "(4, 6)\n",
            "int64\n"
          ],
          "name": "stdout"
        }
      ]
    },
    {
      "cell_type": "markdown",
      "metadata": {
        "id": "v6XnHJPReDkU",
        "colab_type": "text"
      },
      "source": [
        "### Reshape"
      ]
    },
    {
      "cell_type": "code",
      "metadata": {
        "ExecuteTime": {
          "end_time": "2019-12-10T17:56:40.214464Z",
          "start_time": "2019-12-10T17:56:40.206759Z"
        },
        "id": "twuLjuYzeDkV",
        "colab_type": "code",
        "colab": {
          "base_uri": "https://localhost:8080/",
          "height": 34
        },
        "outputId": "97556099-6712-481d-c523-4a6250a1b601"
      },
      "source": [
        "# Seja o vetor unidimensional a:\n",
        "a = np.array([1, 2, 3, 4])\n",
        "print(a, a.shape)"
      ],
      "execution_count": 202,
      "outputs": [
        {
          "output_type": "stream",
          "text": [
            "[1 2 3 4] (4,)\n"
          ],
          "name": "stdout"
        }
      ]
    },
    {
      "cell_type": "markdown",
      "metadata": {
        "ExecuteTime": {
          "end_time": "2017-11-24T10:48:34.537220",
          "start_time": "2017-11-24T10:48:34.531910"
        },
        "id": "86JP18lfeDkY",
        "colab_type": "text"
      },
      "source": [
        "### Exercício: Converta o vetor unidimensional a em uma matriz vetor coluna (4 linhas e 1 coluna) utilizando reshape"
      ]
    },
    {
      "cell_type": "code",
      "metadata": {
        "ExecuteTime": {
          "end_time": "2019-12-10T17:56:40.231358Z",
          "start_time": "2019-12-10T17:56:40.220830Z"
        },
        "id": "OS1KkT90eDkZ",
        "colab_type": "code",
        "colab": {
          "base_uri": "https://localhost:8080/",
          "height": 85
        },
        "outputId": "1f1f80e1-d064-483e-9fbe-bd72c616fccf"
      },
      "source": [
        "a = a.reshape(4,1)  # Escreva código aqui.\n",
        "print(a, a.shape)"
      ],
      "execution_count": 209,
      "outputs": [
        {
          "output_type": "stream",
          "text": [
            "[[1]\n",
            " [2]\n",
            " [3]\n",
            " [4]] (4, 1)\n"
          ],
          "name": "stdout"
        }
      ]
    },
    {
      "cell_type": "markdown",
      "metadata": {
        "id": "hxPVfMLAeDkb",
        "colab_type": "text"
      },
      "source": [
        "## Exercício: Cópia por referência, cópia rasa e cópia profunda\n",
        "\n",
        "Explique a diferença entre estes 3 tipos de cópias e dê um exemplo de cada uma.\n",
        "O conceito aqui é em relação ao NumPy e não ao Python.\n",
        "**Resposta**: cópia Rasa gera views e pode haver compartilhamento de memória das variáveis. Cópia profunda duplica schemas e conteúdo em outro endereço de memória. Cópia por referência funciona apenas como \"um ponteiro (apontador)\", mas o conteúdo e schema estão em um único endereço da memória.\n"
      ]
    },
    {
      "cell_type": "code",
      "metadata": {
        "ExecuteTime": {
          "end_time": "2019-12-10T17:56:40.242710Z",
          "start_time": "2019-12-10T17:56:40.236135Z"
        },
        "id": "p_Be-eNGeDkc",
        "colab_type": "code",
        "colab": {}
      },
      "source": [
        "# Indique para cada uma das expressões a seguir se a cópia é por referência, rasa ou profunda\n",
        "x = a # cópia por referência\n",
        "y = a[:2] # cópia rasa\n",
        "z = a.reshape(4, 1) # cópia rasa\n",
        "zz = a.copy() # cópia profunda\n"
      ],
      "execution_count": 217,
      "outputs": []
    },
    {
      "cell_type": "code",
      "metadata": {
        "id": "JIAo4gZtByIm",
        "colab_type": "code",
        "colab": {
          "base_uri": "https://localhost:8080/",
          "height": 68
        },
        "outputId": "ab252186-eb0b-4609-d29c-4a53b8b9b46c"
      },
      "source": [
        "## Para auxiliar na resposta abaixo:\n",
        "print(np.may_share_memory(a,z))\n",
        "print(np.may_share_memory(a,y))\n",
        "print(np.may_share_memory(a,zz))"
      ],
      "execution_count": 218,
      "outputs": [
        {
          "output_type": "stream",
          "text": [
            "True\n",
            "True\n",
            "False\n"
          ],
          "name": "stdout"
        }
      ]
    },
    {
      "cell_type": "code",
      "metadata": {
        "ExecuteTime": {
          "end_time": "2019-12-10T17:56:40.257657Z",
          "start_time": "2019-12-10T17:56:40.248201Z"
        },
        "id": "zeN_ZMNeeDkf",
        "colab_type": "code",
        "colab": {
          "base_uri": "https://localhost:8080/",
          "height": 221
        },
        "outputId": "d0db34b2-955c-41f2-d6a3-532048839e70"
      },
      "source": [
        "# Explique o valor dos resultados:\n",
        "z[0,0] = 5\n",
        "print(a) #explique: como z foi gerado a partir de uma cópia rasa de a (reshape), as variáveis compartilham memória. \n",
        "y[1] = 6\n",
        "print(a) # explique: como y foi gerado a partir de uma cópia rasa de a (slicing), as variáveis compartilham memória. \n",
        "zz[0] = 7\n",
        "print(a) # explique: não altera nenhum elemento de a, pois zz é uma cópia profunda de a, portanto não compartilham memória"
      ],
      "execution_count": 219,
      "outputs": [
        {
          "output_type": "stream",
          "text": [
            "[[5]\n",
            " [2]\n",
            " [3]\n",
            " [4]]\n",
            "[[5]\n",
            " [6]\n",
            " [3]\n",
            " [4]]\n",
            "[[5]\n",
            " [6]\n",
            " [3]\n",
            " [4]]\n"
          ],
          "name": "stdout"
        }
      ]
    },
    {
      "cell_type": "markdown",
      "metadata": {
        "id": "-D4i7WhceDki",
        "colab_type": "text"
      },
      "source": [
        "## Operações aritméticas"
      ]
    },
    {
      "cell_type": "code",
      "metadata": {
        "id": "oZF8bP21Dgr8",
        "colab_type": "code",
        "colab": {
          "base_uri": "https://localhost:8080/",
          "height": 85
        },
        "outputId": "ba21052f-03e4-4002-b27a-0f83a2dfc71d"
      },
      "source": [
        "A"
      ],
      "execution_count": 220,
      "outputs": [
        {
          "output_type": "execute_result",
          "data": {
            "text/plain": [
              "array([[ 0,  1,  2,  3,  4,  5],\n",
              "       [ 6,  7,  8,  9, 10, 11],\n",
              "       [12, 13, 14, 15, 16, 17],\n",
              "       [18, 19, 20, 21, 22, 23]])"
            ]
          },
          "metadata": {
            "tags": []
          },
          "execution_count": 220
        }
      ]
    },
    {
      "cell_type": "code",
      "metadata": {
        "ExecuteTime": {
          "end_time": "2019-12-10T17:56:40.295188Z",
          "start_time": "2019-12-10T17:56:40.264886Z"
        },
        "id": "Yys85Qb-eDkj",
        "colab_type": "code",
        "colab": {
          "base_uri": "https://localhost:8080/",
          "height": 85
        },
        "outputId": "07ba7206-0d34-45d8-b71b-54c0f209a71c"
      },
      "source": [
        "B = A + 10\n",
        "B"
      ],
      "execution_count": 221,
      "outputs": [
        {
          "output_type": "execute_result",
          "data": {
            "text/plain": [
              "array([[10, 11, 12, 13, 14, 15],\n",
              "       [16, 17, 18, 19, 20, 21],\n",
              "       [22, 23, 24, 25, 26, 27],\n",
              "       [28, 29, 30, 31, 32, 33]])"
            ]
          },
          "metadata": {
            "tags": []
          },
          "execution_count": 221
        }
      ]
    },
    {
      "cell_type": "markdown",
      "metadata": {
        "id": "bOcP0lBveDkn",
        "colab_type": "text"
      },
      "source": [
        "### Array binário (booleano)"
      ]
    },
    {
      "cell_type": "markdown",
      "metadata": {
        "ExecuteTime": {
          "end_time": "2017-11-24T10:48:34.559435",
          "start_time": "2017-11-24T10:48:34.555288"
        },
        "id": "gbFq-LWNeDko",
        "colab_type": "text"
      },
      "source": [
        "#### Exercício: Crie uma matriz booleana C com True nos elementos de B menores que 18 (não utilize loop explícito)"
      ]
    },
    {
      "cell_type": "code",
      "metadata": {
        "ExecuteTime": {
          "end_time": "2019-12-10T17:56:40.304894Z",
          "start_time": "2019-12-10T17:56:40.297941Z"
        },
        "id": "Z0snpJeAeDko",
        "colab_type": "code",
        "colab": {
          "base_uri": "https://localhost:8080/",
          "height": 153
        },
        "outputId": "e8eb2882-9d13-4afa-fab8-5c5bb270b904"
      },
      "source": [
        "print(B)\n",
        "C = B < 18\n",
        "print(C)"
      ],
      "execution_count": 14,
      "outputs": [
        {
          "output_type": "stream",
          "text": [
            "[[10 11 12 13 14 15]\n",
            " [16 17 18 19 20 21]\n",
            " [22 23 24 25 26 27]\n",
            " [28 29 30 31 32 33]]\n",
            "[[ True  True  True  True  True  True]\n",
            " [ True  True False False False False]\n",
            " [False False False False False False]\n",
            " [False False False False False False]]\n"
          ],
          "name": "stdout"
        }
      ]
    },
    {
      "cell_type": "markdown",
      "metadata": {
        "id": "5nfiS3UgeDkr",
        "colab_type": "text"
      },
      "source": [
        "## Indexação booleana"
      ]
    },
    {
      "cell_type": "markdown",
      "metadata": {
        "id": "IHuFI5RKeDks",
        "colab_type": "text"
      },
      "source": [
        "### Exercício: explique o comando a seguir de indexação booleana"
      ]
    },
    {
      "cell_type": "code",
      "metadata": {
        "id": "NKW0z5OyFVFA",
        "colab_type": "code",
        "colab": {
          "base_uri": "https://localhost:8080/",
          "height": 153
        },
        "outputId": "4ec3dc66-06d9-4a4a-f5e5-ce6275dfb6a9"
      },
      "source": [
        "print(B < 18)\n",
        "print(A)"
      ],
      "execution_count": 15,
      "outputs": [
        {
          "output_type": "stream",
          "text": [
            "[[ True  True  True  True  True  True]\n",
            " [ True  True False False False False]\n",
            " [False False False False False False]\n",
            " [False False False False False False]]\n",
            "[[ 0  1  2  3  4  5]\n",
            " [ 6  7  8  9 10 11]\n",
            " [12 13 14 15 16 17]\n",
            " [18 19 20 21 22 23]]\n"
          ],
          "name": "stdout"
        }
      ]
    },
    {
      "cell_type": "code",
      "metadata": {
        "ExecuteTime": {
          "end_time": "2019-12-10T17:56:40.321735Z",
          "start_time": "2019-12-10T17:56:40.311748Z"
        },
        "id": "kw66ku8jeDks",
        "colab_type": "code",
        "colab": {
          "base_uri": "https://localhost:8080/",
          "height": 34
        },
        "outputId": "b8efdef1-ba0c-4120-92ea-5d9245194827"
      },
      "source": [
        "A[B < 18]"
      ],
      "execution_count": 16,
      "outputs": [
        {
          "output_type": "execute_result",
          "data": {
            "text/plain": [
              "array([0, 1, 2, 3, 4, 5, 6, 7])"
            ]
          },
          "metadata": {
            "tags": []
          },
          "execution_count": 16
        }
      ]
    },
    {
      "cell_type": "markdown",
      "metadata": {
        "id": "xcpW3UgnTjF0",
        "colab_type": "text"
      },
      "source": [
        "Explicação: esta indexação é um slicing selecionando apenas os elementos com True estabelecido na representação booleana. "
      ]
    },
    {
      "cell_type": "markdown",
      "metadata": {
        "id": "0HKgxRaKeDkv",
        "colab_type": "text"
      },
      "source": [
        "Veja um programa que cria matriz D_loop a partir da matriz B, porém trocando os elementos menores que 18 por seus valores negativos"
      ]
    },
    {
      "cell_type": "code",
      "metadata": {
        "ExecuteTime": {
          "end_time": "2019-12-10T17:56:40.334686Z",
          "start_time": "2019-12-10T17:56:40.325194Z"
        },
        "id": "VHxKXZCJeDkw",
        "colab_type": "code",
        "colab": {
          "base_uri": "https://localhost:8080/",
          "height": 85
        },
        "outputId": "3467dd18-40a3-4a50-b1ad-b8e6def793bf"
      },
      "source": [
        "D_loop = B.copy()\n",
        "for row in np.arange(B.shape[0]):\n",
        "    for col in np.arange(B.shape[1]):\n",
        "        if B[row,col] < 18:\n",
        "            D_loop[row,col] = - B[row,col]\n",
        "print(D_loop)"
      ],
      "execution_count": 17,
      "outputs": [
        {
          "output_type": "stream",
          "text": [
            "[[-10 -11 -12 -13 -14 -15]\n",
            " [-16 -17  18  19  20  21]\n",
            " [ 22  23  24  25  26  27]\n",
            " [ 28  29  30  31  32  33]]\n"
          ],
          "name": "stdout"
        }
      ]
    },
    {
      "cell_type": "markdown",
      "metadata": {
        "id": "nOi6QDcqeDk1",
        "colab_type": "text"
      },
      "source": [
        "### Exercício: Substitua o programa acima por uma única linha sem loop, utilizando indexação booleana e evitando o uso de `where`"
      ]
    },
    {
      "cell_type": "code",
      "metadata": {
        "ExecuteTime": {
          "end_time": "2019-12-10T17:56:40.346397Z",
          "start_time": "2019-12-10T17:56:40.337666Z"
        },
        "id": "5d-ZDxbmeDk2",
        "colab_type": "code",
        "colab": {
          "base_uri": "https://localhost:8080/",
          "height": 85
        },
        "outputId": "6a6bc94c-da94-4b79-dc66-9a5f39c2eec4"
      },
      "source": [
        "B[B < 18] = -B[B < 18] # << modifique aqui utilizando indexação booleana\n",
        "D = B    \n",
        "print(D)"
      ],
      "execution_count": 18,
      "outputs": [
        {
          "output_type": "stream",
          "text": [
            "[[-10 -11 -12 -13 -14 -15]\n",
            " [-16 -17  18  19  20  21]\n",
            " [ 22  23  24  25  26  27]\n",
            " [ 28  29  30  31  32  33]]\n"
          ],
          "name": "stdout"
        }
      ]
    },
    {
      "cell_type": "markdown",
      "metadata": {
        "id": "tasiyC2QeDk4",
        "colab_type": "text"
      },
      "source": [
        "## Redução de eixo: soma"
      ]
    },
    {
      "cell_type": "markdown",
      "metadata": {
        "id": "uI2VwH6leDk5",
        "colab_type": "text"
      },
      "source": [
        "Operações matriciais de redução de eixo são muito úteis e importantes.\n",
        "É um conceito importante da programação matricial.\n",
        "\n",
        "Estude o exemplo a seguir:"
      ]
    },
    {
      "cell_type": "code",
      "metadata": {
        "ExecuteTime": {
          "end_time": "2019-12-10T17:56:40.360645Z",
          "start_time": "2019-12-10T17:56:40.350099Z"
        },
        "id": "jbjnW-zGeDk7",
        "colab_type": "code",
        "colab": {
          "base_uri": "https://localhost:8080/",
          "height": 136
        },
        "outputId": "5e465ed1-0f1c-47ce-e1f6-2fb05169f368"
      },
      "source": [
        "print(A)\n",
        "print(A.shape)\n",
        "As = A.sum(axis=0)\n",
        "print(As)\n",
        "print(As.shape)"
      ],
      "execution_count": 19,
      "outputs": [
        {
          "output_type": "stream",
          "text": [
            "[[ 0  1  2  3  4  5]\n",
            " [ 6  7  8  9 10 11]\n",
            " [12 13 14 15 16 17]\n",
            " [18 19 20 21 22 23]]\n",
            "(4, 6)\n",
            "[36 40 44 48 52 56]\n",
            "(6,)\n"
          ],
          "name": "stdout"
        }
      ]
    },
    {
      "cell_type": "markdown",
      "metadata": {
        "ExecuteTime": {
          "end_time": "2017-11-24T10:48:34.585861",
          "start_time": "2017-11-24T10:48:34.582054"
        },
        "id": "ansV5TGMeDlA",
        "colab_type": "text"
      },
      "source": [
        "### Exercício: Explique o funcionamento da soma por redução de eixo. Qual foi a dimensão que desapareceu?\n",
        "\n",
        "Resposta: A soma por redução de eixo é a soma dos elementos de determinada dimensão parametrizada pelo parâmetro 'axis'. O parâmetro definido em 'axis' é a dimensão que ocorre a soma, ou seja, agregando os elementos de tal forma que a dimensão \"suma\".\n",
        "Neste caso a dimensão restante é a 2a dimensão, justamente a não explícita no parâmetro 'axis'. Esta interpretação é análoga para arrays de 3 dimensões."
      ]
    },
    {
      "cell_type": "code",
      "metadata": {
        "id": "LPKS-Ak_krGT",
        "colab_type": "code",
        "colab": {
          "base_uri": "https://localhost:8080/",
          "height": 204
        },
        "outputId": "2e909795-a0d6-4485-ca14-69d2306322d4"
      },
      "source": [
        "# Estudando reshaping e soma por redução de eixo\n",
        "print(A.reshape(2,3,4))\n",
        "print(A.reshape(2,3,4).shape)\n",
        "print(A.reshape(2,3,4).sum(axis=1))\n",
        "print(A.reshape(2,3,4).sum(axis=1).shape)"
      ],
      "execution_count": 20,
      "outputs": [
        {
          "output_type": "stream",
          "text": [
            "[[[ 0  1  2  3]\n",
            "  [ 4  5  6  7]\n",
            "  [ 8  9 10 11]]\n",
            "\n",
            " [[12 13 14 15]\n",
            "  [16 17 18 19]\n",
            "  [20 21 22 23]]]\n",
            "(2, 3, 4)\n",
            "[[12 15 18 21]\n",
            " [48 51 54 57]]\n",
            "(2, 4)\n"
          ],
          "name": "stdout"
        }
      ]
    },
    {
      "cell_type": "markdown",
      "metadata": {
        "ExecuteTime": {
          "end_time": "2017-11-24T10:48:34.585861",
          "start_time": "2017-11-24T10:48:34.582054"
        },
        "id": "cTtocpKGeDlB",
        "colab_type": "text"
      },
      "source": [
        "### Exercício: calcule o valor médio do array A"
      ]
    },
    {
      "cell_type": "code",
      "metadata": {
        "ExecuteTime": {
          "end_time": "2019-12-10T17:56:40.372210Z",
          "start_time": "2019-12-10T17:56:40.364380Z"
        },
        "id": "YHSWzCn3eDlB",
        "colab_type": "code",
        "colab": {
          "base_uri": "https://localhost:8080/",
          "height": 34
        },
        "outputId": "376cccbc-52d7-4f86-dbdc-a06999b47dc4"
      },
      "source": [
        "print(A.mean())"
      ],
      "execution_count": 21,
      "outputs": [
        {
          "output_type": "stream",
          "text": [
            "11.5\n"
          ],
          "name": "stdout"
        }
      ]
    },
    {
      "cell_type": "markdown",
      "metadata": {
        "id": "yqCQvJeeeDlH",
        "colab_type": "text"
      },
      "source": [
        "### Exercício: calcule o valor médio das linhas de A:"
      ]
    },
    {
      "cell_type": "code",
      "metadata": {
        "id": "OmzmjeRw-koW",
        "colab_type": "code",
        "colab": {
          "base_uri": "https://localhost:8080/",
          "height": 34
        },
        "outputId": "e5af65bc-43e5-4e0c-a6cd-1ab6e148ab04"
      },
      "source": [
        "np.array([0,1,2,3,4]).mean()"
      ],
      "execution_count": 214,
      "outputs": [
        {
          "output_type": "execute_result",
          "data": {
            "text/plain": [
              "2.0"
            ]
          },
          "metadata": {
            "tags": []
          },
          "execution_count": 214
        }
      ]
    },
    {
      "cell_type": "code",
      "metadata": {
        "ExecuteTime": {
          "end_time": "2019-12-10T17:56:40.390105Z",
          "start_time": "2019-12-10T17:56:40.375159Z"
        },
        "id": "zwlor1HIeDlI",
        "colab_type": "code",
        "colab": {
          "base_uri": "https://localhost:8080/",
          "height": 34
        },
        "outputId": "af72850d-1e96-4fbd-987e-912070301ff8"
      },
      "source": [
        "print(A.mean(axis=1))"
      ],
      "execution_count": 213,
      "outputs": [
        {
          "output_type": "stream",
          "text": [
            "[ 2.5  8.5 14.5 20.5]\n"
          ],
          "name": "stdout"
        }
      ]
    },
    {
      "cell_type": "markdown",
      "metadata": {
        "id": "zMGMB37DeDlM",
        "colab_type": "text"
      },
      "source": [
        "## Broadcasting"
      ]
    },
    {
      "cell_type": "markdown",
      "metadata": {
        "id": "DQ_BpGqteDlM",
        "colab_type": "text"
      },
      "source": [
        "### Exercício: O que significa o conceito de broadcasting em NumPy?\n",
        "\n",
        "Resposta: É a tratativa de arrays de diferentes dimensões em operções algébricas. É como se \"alongasse\" o array de menor dimensão para possibilitar a operação. "
      ]
    },
    {
      "cell_type": "markdown",
      "metadata": {
        "id": "pL86ukPTUMFx",
        "colab_type": "text"
      },
      "source": [
        "### Exercício: Usando o conceito de broadcast, mude o shape do vetor a para que o broadcast possa ocorrer quando fizermos G = A + a"
      ]
    },
    {
      "cell_type": "code",
      "metadata": {
        "id": "u_epXQTZcGpl",
        "colab_type": "code",
        "colab": {
          "base_uri": "https://localhost:8080/",
          "height": 34
        },
        "outputId": "8a010b00-a639-4dff-dab5-905e75ec1708"
      },
      "source": [
        "print(A.shape)"
      ],
      "execution_count": 50,
      "outputs": [
        {
          "output_type": "stream",
          "text": [
            "(4, 6)\n"
          ],
          "name": "stdout"
        }
      ]
    },
    {
      "cell_type": "code",
      "metadata": {
        "ExecuteTime": {
          "end_time": "2017-11-24T10:48:34.653339",
          "start_time": "2017-11-24T10:48:34.649183"
        },
        "id": "6ajgvMeueDlM",
        "colab_type": "code",
        "colab": {
          "base_uri": "https://localhost:8080/",
          "height": 170
        },
        "outputId": "b99d5faa-ce76-44e1-a283-76c9fdbf4137"
      },
      "source": [
        "a = np.arange(4).reshape((4,1))\n",
        "print(a.shape)\n",
        "print(a)\n",
        "G = A + a\n",
        "print(G)"
      ],
      "execution_count": 57,
      "outputs": [
        {
          "output_type": "stream",
          "text": [
            "(4, 1)\n",
            "[[0]\n",
            " [1]\n",
            " [2]\n",
            " [3]]\n",
            "[[ 0  1  2  3  4  5]\n",
            " [ 7  8  9 10 11 12]\n",
            " [14 15 16 17 18 19]\n",
            " [21 22 23 24 25 26]]\n"
          ],
          "name": "stdout"
        }
      ]
    },
    {
      "cell_type": "markdown",
      "metadata": {
        "id": "2iI7udBFeDlP",
        "colab_type": "text"
      },
      "source": [
        "## Normalização entre 0 e 1"
      ]
    },
    {
      "cell_type": "markdown",
      "metadata": {
        "id": "ZU5bY1pqeDlR",
        "colab_type": "text"
      },
      "source": [
        "Seja a matriz $C$ que é a normalização da matriz $A$:\n",
        "$$ C(i,j) = \\frac{A(i,j) - A_{min}}{A_{max} - A_{min}} $$\n",
        "\n",
        "Em programação matricial, não se faz o loop em cada elemento da matriz,\n",
        "mas sim, utiliza-se operações matriciais. Faça o exercício a seguir\n",
        "sem utilizar laços explícitos:"
      ]
    },
    {
      "cell_type": "markdown",
      "metadata": {
        "id": "JtgSAAKjUfcO",
        "colab_type": "text"
      },
      "source": [
        "### Exercício: Criar a matriz C que é a normalização de A, de modo que os valores de C estejam entre 0 e 1.\n"
      ]
    },
    {
      "cell_type": "code",
      "metadata": {
        "ExecuteTime": {
          "end_time": "2019-12-11T00:00:34.072719Z",
          "start_time": "2019-12-11T00:00:34.036017Z"
        },
        "id": "_pDhb2-0eDlS",
        "colab_type": "code",
        "colab": {
          "base_uri": "https://localhost:8080/",
          "height": 85
        },
        "outputId": "e444d033-e627-4bc0-eb4e-ad31ad630980"
      },
      "source": [
        "C = (A - A.min())/(A.max() - A.min())\n",
        "print(C)"
      ],
      "execution_count": 62,
      "outputs": [
        {
          "output_type": "stream",
          "text": [
            "[[0.         0.04347826 0.08695652 0.13043478 0.17391304 0.2173913 ]\n",
            " [0.26086957 0.30434783 0.34782609 0.39130435 0.43478261 0.47826087]\n",
            " [0.52173913 0.56521739 0.60869565 0.65217391 0.69565217 0.73913043]\n",
            " [0.7826087  0.82608696 0.86956522 0.91304348 0.95652174 1.        ]]\n"
          ],
          "name": "stdout"
        }
      ]
    },
    {
      "cell_type": "markdown",
      "metadata": {
        "id": "cbXIXsDIUmtp",
        "colab_type": "text"
      },
      "source": [
        "### Exercício: Modificar o exercício anterior, porém agora faça a normalização para cada coluna de A de modo que as colunas da matriz D estejam entre os valores de 0 a 1. Dica: utilize o conceito de redução de eixo.\n"
      ]
    },
    {
      "cell_type": "code",
      "metadata": {
        "ExecuteTime": {
          "end_time": "2019-12-10T17:56:40.413601Z",
          "start_time": "2019-12-10T17:56:40.405056Z"
        },
        "id": "i-5Hv8-heDlW",
        "colab_type": "code",
        "colab": {
          "base_uri": "https://localhost:8080/",
          "height": 85
        },
        "outputId": "2d640d84-f146-4c71-b92b-cadf181f53d5"
      },
      "source": [
        "D = (A - A.min(axis=0))/(A.max(axis=0) - A.min(axis=0))\n",
        "print(D)"
      ],
      "execution_count": 66,
      "outputs": [
        {
          "output_type": "stream",
          "text": [
            "[[0.         0.         0.         0.         0.         0.        ]\n",
            " [0.33333333 0.33333333 0.33333333 0.33333333 0.33333333 0.33333333]\n",
            " [0.66666667 0.66666667 0.66666667 0.66666667 0.66666667 0.66666667]\n",
            " [1.         1.         1.         1.         1.         1.        ]]\n"
          ],
          "name": "stdout"
        }
      ]
    },
    {
      "cell_type": "markdown",
      "metadata": {
        "id": "GF_P_GARU62m",
        "colab_type": "text"
      },
      "source": [
        "### Exercício: Modificar o exercício anterior, porém agora faça a normalização para cada linha de A de modo que as colunas da matriz E estejam entre os valores de 0 a 1. Dica: utilize o conceito de redução de eixo, porém mantenha o mesmo número de eixos para poder fazer broadcast."
      ]
    },
    {
      "cell_type": "code",
      "metadata": {
        "id": "6NgVzFOYeDla",
        "colab_type": "code",
        "colab": {
          "base_uri": "https://localhost:8080/",
          "height": 85
        },
        "outputId": "495f2b2f-d7cb-496f-98ce-12020c8f1b20"
      },
      "source": [
        "E = (A - A.min(axis=1, keepdims=True))/(A.max(axis=1, keepdims=True) - A.min(axis=1, keepdims=True))\n",
        "print(E)"
      ],
      "execution_count": 264,
      "outputs": [
        {
          "output_type": "stream",
          "text": [
            "[[0.  0.2 0.4 0.6 0.8 1. ]\n",
            " [0.  0.2 0.4 0.6 0.8 1. ]\n",
            " [0.  0.2 0.4 0.6 0.8 1. ]\n",
            " [0.  0.2 0.4 0.6 0.8 1. ]]\n"
          ],
          "name": "stdout"
        }
      ]
    },
    {
      "cell_type": "markdown",
      "metadata": {
        "id": "XHLmfzVreDle",
        "colab_type": "text"
      },
      "source": [
        "## Fatiamento em arrays (slicing)"
      ]
    },
    {
      "cell_type": "code",
      "metadata": {
        "id": "C_gBxXEx0-md",
        "colab_type": "code",
        "colab": {
          "base_uri": "https://localhost:8080/",
          "height": 187
        },
        "outputId": "69a81a06-d651-48c8-d540-533033935e76"
      },
      "source": [
        "print(A)\n",
        "print(A[1::2])\n",
        "A[:,0::2]"
      ],
      "execution_count": 157,
      "outputs": [
        {
          "output_type": "stream",
          "text": [
            "[[ 0  1  2  3  4  5]\n",
            " [ 6  7  8  9 10 11]\n",
            " [12 13 14 15 16 17]\n",
            " [18 19 20 21 22 23]]\n",
            "[[ 6  7  8  9 10 11]\n",
            " [18 19 20 21 22 23]]\n"
          ],
          "name": "stdout"
        },
        {
          "output_type": "execute_result",
          "data": {
            "text/plain": [
              "array([[ 0,  2,  4],\n",
              "       [ 6,  8, 10],\n",
              "       [12, 14, 16],\n",
              "       [18, 20, 22]])"
            ]
          },
          "metadata": {
            "tags": []
          },
          "execution_count": 157
        }
      ]
    },
    {
      "cell_type": "code",
      "metadata": {
        "ExecuteTime": {
          "end_time": "2019-12-10T17:56:40.424712Z",
          "start_time": "2019-12-10T17:56:40.417272Z"
        },
        "id": "Xz471g10eDlf",
        "colab_type": "code",
        "colab": {
          "base_uri": "https://localhost:8080/",
          "height": 85
        },
        "outputId": "09c5eed4-417a-4466-ddd6-62a517b99696"
      },
      "source": [
        "# esta indexação é chamada fatiamento:\n",
        "AA = A[:,1::2]\n",
        "print(AA)"
      ],
      "execution_count": 142,
      "outputs": [
        {
          "output_type": "stream",
          "text": [
            "[[ 1  3  5]\n",
            " [ 7  9 11]\n",
            " [13 15 17]\n",
            " [19 21 23]]\n"
          ],
          "name": "stdout"
        }
      ]
    },
    {
      "cell_type": "markdown",
      "metadata": {
        "id": "oly_fD5RWNFZ",
        "colab_type": "text"
      },
      "source": [
        "### Exercício: Crie a matriz AB apenas com as linhas pares da matriz A, utilizando o conceito de fatiamento:\n"
      ]
    },
    {
      "cell_type": "code",
      "metadata": {
        "ExecuteTime": {
          "end_time": "2019-12-10T17:56:40.437872Z",
          "start_time": "2019-12-10T17:56:40.428183Z"
        },
        "id": "eg3zLgR9eDlh",
        "colab_type": "code",
        "colab": {
          "base_uri": "https://localhost:8080/",
          "height": 85
        },
        "outputId": "82f38316-9480-47dc-cae2-6014383f41e1"
      },
      "source": [
        "AB = A[:,0::2]\n",
        "print(AB)"
      ],
      "execution_count": 158,
      "outputs": [
        {
          "output_type": "stream",
          "text": [
            "[[ 0  2  4]\n",
            " [ 6  8 10]\n",
            " [12 14 16]\n",
            " [18 20 22]]\n"
          ],
          "name": "stdout"
        }
      ]
    },
    {
      "cell_type": "markdown",
      "metadata": {
        "id": "BDqYq2ymWRWq",
        "colab_type": "text"
      },
      "source": [
        "### Exercicío: Crie a matriz AC com mesmo shape da matriz A, porém com os elementos na ordem inversa, ou seja, trocando a ordem das linhas e das colunas.\n",
        "\n"
      ]
    },
    {
      "cell_type": "markdown",
      "metadata": {
        "id": "EeIDr_RydZU0",
        "colab_type": "text"
      },
      "source": [
        "Por exemplo, a matriz [[1, 2, 3], [4, 5, 6]] será transformada para [[6, 5, 4], [3, 2, 1]]"
      ]
    },
    {
      "cell_type": "code",
      "metadata": {
        "id": "qzaNIwEW3fy5",
        "colab_type": "code",
        "colab": {
          "base_uri": "https://localhost:8080/",
          "height": 51
        },
        "outputId": "f25edf41-215b-4ff5-bcab-25d3943ff06b"
      },
      "source": [
        " test = np.array([[1, 2, 3], [4, 5, 6]])\n",
        " test[-1::-1,-1::-1]"
      ],
      "execution_count": 236,
      "outputs": [
        {
          "output_type": "execute_result",
          "data": {
            "text/plain": [
              "array([[6, 5, 4],\n",
              "       [3, 2, 1]])"
            ]
          },
          "metadata": {
            "tags": []
          },
          "execution_count": 236
        }
      ]
    },
    {
      "cell_type": "code",
      "metadata": {
        "ExecuteTime": {
          "end_time": "2019-12-10T17:56:40.447762Z",
          "start_time": "2019-12-10T17:56:40.440731Z"
        },
        "id": "YiHkUweVeDlk",
        "colab_type": "code",
        "colab": {
          "base_uri": "https://localhost:8080/",
          "height": 85
        },
        "outputId": "63196ef5-56d0-4ef4-ddf4-194af847a4fe"
      },
      "source": [
        "AC = A[-1::-1,-1::-1]\n",
        "print(AC)"
      ],
      "execution_count": 237,
      "outputs": [
        {
          "output_type": "stream",
          "text": [
            "[[23 22 21 20 19 18]\n",
            " [17 16 15 14 13 12]\n",
            " [11 10  9  8  7  6]\n",
            " [ 5  4  3  2  1  0]]\n"
          ],
          "name": "stdout"
        }
      ]
    },
    {
      "cell_type": "markdown",
      "metadata": {
        "id": "Ltb2QihyeDlm",
        "colab_type": "text"
      },
      "source": [
        "## Produto matricial  (dot product)"
      ]
    },
    {
      "cell_type": "markdown",
      "metadata": {
        "id": "P916bdpneDln",
        "colab_type": "text"
      },
      "source": [
        "### Exercício: Calcule a matriz E dada pelo produto matricial entre a matriz A e sua transposta: \n",
        "$$ E = A A^T $$"
      ]
    },
    {
      "cell_type": "code",
      "metadata": {
        "id": "mGq2fMptBTge",
        "colab_type": "code",
        "colab": {
          "base_uri": "https://localhost:8080/",
          "height": 34
        },
        "outputId": "bcb58250-3bfa-4b6e-88e3-87fbd9c51434"
      },
      "source": [
        "0*0 + 1*1 + 2*2 + 3*3 + 4*4 + 5*5"
      ],
      "execution_count": 249,
      "outputs": [
        {
          "output_type": "execute_result",
          "data": {
            "text/plain": [
              "55"
            ]
          },
          "metadata": {
            "tags": []
          },
          "execution_count": 249
        }
      ]
    },
    {
      "cell_type": "code",
      "metadata": {
        "id": "damLPyLwA0wn",
        "colab_type": "code",
        "colab": {
          "base_uri": "https://localhost:8080/",
          "height": 187
        },
        "outputId": "255c4cf2-6b58-4cb9-e6e3-54c63be24eb4"
      },
      "source": [
        "print(A)\n",
        "print(A.T)"
      ],
      "execution_count": 246,
      "outputs": [
        {
          "output_type": "stream",
          "text": [
            "[[ 0  1  2  3  4  5]\n",
            " [ 6  7  8  9 10 11]\n",
            " [12 13 14 15 16 17]\n",
            " [18 19 20 21 22 23]]\n",
            "[[ 0  6 12 18]\n",
            " [ 1  7 13 19]\n",
            " [ 2  8 14 20]\n",
            " [ 3  9 15 21]\n",
            " [ 4 10 16 22]\n",
            " [ 5 11 17 23]]\n"
          ],
          "name": "stdout"
        }
      ]
    },
    {
      "cell_type": "code",
      "metadata": {
        "ExecuteTime": {
          "end_time": "2019-12-10T17:56:40.457617Z",
          "start_time": "2019-12-10T17:56:40.450430Z"
        },
        "id": "hOjk80hceDln",
        "colab_type": "code",
        "colab": {
          "base_uri": "https://localhost:8080/",
          "height": 85
        },
        "outputId": "5f028858-5c89-4450-c8d3-35458afd882d"
      },
      "source": [
        "E = np.dot(A,A.T) # modify your code here\n",
        "print(E)"
      ],
      "execution_count": 239,
      "outputs": [
        {
          "output_type": "stream",
          "text": [
            "[[  55  145  235  325]\n",
            " [ 145  451  757 1063]\n",
            " [ 235  757 1279 1801]\n",
            " [ 325 1063 1801 2539]]\n"
          ],
          "name": "stdout"
        }
      ]
    },
    {
      "cell_type": "markdown",
      "metadata": {
        "id": "nbYr1dVcd7Rl",
        "colab_type": "text"
      },
      "source": [
        "### Exercício: Descomente a linha e explique por que a operação de multiplicação dá erro."
      ]
    },
    {
      "cell_type": "code",
      "metadata": {
        "ExecuteTime": {
          "end_time": "2019-12-10T17:56:40.465257Z",
          "start_time": "2019-12-10T17:56:40.460810Z"
        },
        "id": "LkAbXPsYeDlt",
        "colab_type": "code",
        "colab": {
          "base_uri": "https://localhost:8080/",
          "height": 181
        },
        "outputId": "9e285b96-9ce3-4a54-d9f0-6da2b66702a6"
      },
      "source": [
        "Ee = A * A.T\n",
        "Ee"
      ],
      "execution_count": 250,
      "outputs": [
        {
          "output_type": "error",
          "ename": "ValueError",
          "evalue": "ignored",
          "traceback": [
            "\u001b[0;31m---------------------------------------------------------------------------\u001b[0m",
            "\u001b[0;31mValueError\u001b[0m                                Traceback (most recent call last)",
            "\u001b[0;32m<ipython-input-250-73ba5b10cfc8>\u001b[0m in \u001b[0;36m<module>\u001b[0;34m()\u001b[0m\n\u001b[0;32m----> 1\u001b[0;31m \u001b[0mEe\u001b[0m \u001b[0;34m=\u001b[0m \u001b[0mA\u001b[0m \u001b[0;34m*\u001b[0m \u001b[0mA\u001b[0m\u001b[0;34m.\u001b[0m\u001b[0mT\u001b[0m\u001b[0;34m\u001b[0m\u001b[0;34m\u001b[0m\u001b[0m\n\u001b[0m\u001b[1;32m      2\u001b[0m \u001b[0mEe\u001b[0m\u001b[0;34m\u001b[0m\u001b[0;34m\u001b[0m\u001b[0m\n",
            "\u001b[0;31mValueError\u001b[0m: operands could not be broadcast together with shapes (4,6) (6,4) "
          ]
        }
      ]
    },
    {
      "cell_type": "markdown",
      "metadata": {
        "id": "nH_KrbOqAo7o",
        "colab_type": "text"
      },
      "source": [
        "A operação acusa erro, pois o python tenta fazer operação por elemento e não operação matricial."
      ]
    },
    {
      "cell_type": "markdown",
      "metadata": {
        "id": "ZWB_BBggeDlz",
        "colab_type": "text"
      },
      "source": [
        "## Matrizes multidimensionais"
      ]
    },
    {
      "cell_type": "markdown",
      "metadata": {
        "ExecuteTime": {
          "end_time": "2017-08-27T11:37:19.062565",
          "start_time": "2017-08-27T11:37:18.994081"
        },
        "id": "KpWXWxokeDl0",
        "colab_type": "text"
      },
      "source": [
        "Em deep learning, iremos utilizar matrizes multidimensionais\n",
        "que são denominados como arrays no NumPy. PyTorch usa o nome de tensor para\n",
        "suas matrizes multimensionais.\n",
        "\n",
        "Matrizes de dimensões maior que 4 são de difícil intuição. A melhor forma de lidar\n",
        "com elas é observando o seu *shape*."
      ]
    },
    {
      "cell_type": "markdown",
      "metadata": {
        "id": "49yeX7UpeDl1",
        "colab_type": "text"
      },
      "source": [
        "### 3-D array"
      ]
    },
    {
      "cell_type": "code",
      "metadata": {
        "ExecuteTime": {
          "end_time": "2019-12-10T17:56:40.474112Z",
          "start_time": "2019-12-10T17:56:40.468455Z"
        },
        "id": "BHyCf2wNeDl1",
        "colab_type": "code",
        "colab": {
          "base_uri": "https://localhost:8080/",
          "height": 136
        },
        "outputId": "cad56aa2-1000-4201-f8be-f54c6291e80d"
      },
      "source": [
        "F = A.reshape(2, 3, 4)\n",
        "print(F)"
      ],
      "execution_count": 251,
      "outputs": [
        {
          "output_type": "stream",
          "text": [
            "[[[ 0  1  2  3]\n",
            "  [ 4  5  6  7]\n",
            "  [ 8  9 10 11]]\n",
            "\n",
            " [[12 13 14 15]\n",
            "  [16 17 18 19]\n",
            "  [20 21 22 23]]]\n"
          ],
          "name": "stdout"
        }
      ]
    },
    {
      "cell_type": "markdown",
      "metadata": {
        "id": "7J5n1UiheDl5",
        "colab_type": "text"
      },
      "source": [
        "#### Indexação"
      ]
    },
    {
      "cell_type": "markdown",
      "metadata": {
        "id": "4p5U7YBZeDl6",
        "colab_type": "text"
      },
      "source": [
        "Estude as seguintes indexações:"
      ]
    },
    {
      "cell_type": "code",
      "metadata": {
        "ExecuteTime": {
          "end_time": "2019-12-10T17:56:52.815469Z",
          "start_time": "2019-12-10T17:56:52.810002Z"
        },
        "id": "gFEXDgk-eDl6",
        "colab_type": "code",
        "colab": {
          "base_uri": "https://localhost:8080/",
          "height": 119
        },
        "outputId": "f0b7ae92-8d22-47cf-ff35-1acaa8b8185b"
      },
      "source": [
        "F1 = F[1]\n",
        "print(F1)\n",
        "F2 = F[1,0,:]\n",
        "print(F2)\n",
        "F3 = F[1,0,2]\n",
        "print(F3)\n",
        "F4 = F[1:2,0,2]\n",
        "print(F4)"
      ],
      "execution_count": 252,
      "outputs": [
        {
          "output_type": "stream",
          "text": [
            "[[12 13 14 15]\n",
            " [16 17 18 19]\n",
            " [20 21 22 23]]\n",
            "[12 13 14 15]\n",
            "14\n",
            "[14]\n"
          ],
          "name": "stdout"
        }
      ]
    },
    {
      "cell_type": "code",
      "metadata": {
        "ExecuteTime": {
          "end_time": "2019-12-10T17:56:54.900989Z",
          "start_time": "2019-12-10T17:56:54.885810Z"
        },
        "id": "fG3IzVF8eDl9",
        "colab_type": "code",
        "colab": {
          "base_uri": "https://localhost:8080/",
          "height": 85
        },
        "outputId": "2717d0f0-dda3-4e74-d209-7dd436abc159"
      },
      "source": [
        "print(F1.shape)\n",
        "print(F2.shape)\n",
        "print(F3.shape)\n",
        "print(F4.shape)"
      ],
      "execution_count": 256,
      "outputs": [
        {
          "output_type": "stream",
          "text": [
            "(3, 4)\n",
            "(4,)\n",
            "()\n",
            "(1,)\n"
          ],
          "name": "stdout"
        }
      ]
    },
    {
      "cell_type": "markdown",
      "metadata": {
        "ExecuteTime": {
          "end_time": "2017-11-24T10:48:34.642626",
          "start_time": "2017-11-24T10:48:34.638891"
        },
        "id": "G6lt3BgVeDmA",
        "colab_type": "text"
      },
      "source": [
        "### Exercício: Explique as dimensões de cada array:\n",
        "\n",
        "F1: bidimensional (3 linhas e 4 colunas)\n",
        "\n",
        "F2: unidimensional (4 linhas)\n",
        "\n",
        "F3: adimensional, é um inteiro\n",
        "\n",
        "F4: unidimensional (1 linha)"
      ]
    },
    {
      "cell_type": "markdown",
      "metadata": {
        "id": "rtxCGlQKeDmA",
        "colab_type": "text"
      },
      "source": [
        "## Redução de eixo - aplicado a dois eixos simultâneos"
      ]
    },
    {
      "cell_type": "markdown",
      "metadata": {
        "id": "tJKWJmLWeDmB",
        "colab_type": "text"
      },
      "source": [
        "Redução de eixo é quando a operação matricial resulta num array de menores dimensões.\n",
        "Com essas operações, calcula-se estatística de colunas, linhas, etc."
      ]
    },
    {
      "cell_type": "markdown",
      "metadata": {
        "ExecuteTime": {
          "end_time": "2017-11-24T10:48:34.647517",
          "start_time": "2017-11-24T10:48:34.644317"
        },
        "id": "pRur77ojeDmB",
        "colab_type": "text"
      },
      "source": [
        "### Exercício: Calcule o valor médio das matrizes F[0] e F[1], usando apenas um único comando F.mean(??)"
      ]
    },
    {
      "cell_type": "code",
      "metadata": {
        "id": "_HzP306kDScC",
        "colab_type": "code",
        "colab": {
          "base_uri": "https://localhost:8080/",
          "height": 34
        },
        "outputId": "90fb5b77-eca1-46fe-be4d-9902b6307bb9"
      },
      "source": [
        "F[0].mean(), F[1].mean()"
      ],
      "execution_count": 261,
      "outputs": [
        {
          "output_type": "execute_result",
          "data": {
            "text/plain": [
              "(5.5, 17.5)"
            ]
          },
          "metadata": {
            "tags": []
          },
          "execution_count": 261
        }
      ]
    },
    {
      "cell_type": "code",
      "metadata": {
        "id": "RzrZRJgZDske",
        "colab_type": "code",
        "colab": {
          "base_uri": "https://localhost:8080/",
          "height": 34
        },
        "outputId": "1739debd-8bb1-44bc-b811-d636e7ef17d9"
      },
      "source": [
        "F.mean(axis=(1,2))"
      ],
      "execution_count": 271,
      "outputs": [
        {
          "output_type": "execute_result",
          "data": {
            "text/plain": [
              "array([ 5.5, 17.5])"
            ]
          },
          "metadata": {
            "tags": []
          },
          "execution_count": 271
        }
      ]
    },
    {
      "cell_type": "markdown",
      "metadata": {
        "id": "6v0cIIXWeDmF",
        "colab_type": "text"
      },
      "source": [
        "## Function - split - dados treino e validação"
      ]
    },
    {
      "cell_type": "markdown",
      "metadata": {
        "id": "5dSASYjheDmF",
        "colab_type": "text"
      },
      "source": [
        "O exercício a seguir é para separar um conjunto de dados (dataset) em dois conjuntos, um\n",
        "de treinamento e outro de validação.\n",
        "\n",
        "\n",
        "Defina uma função que receba como entrada uma matriz, (dataset), onde cada linha é\n",
        "referente a uma amostra e cada coluna referente a um atributo das amostras. O número total de\n",
        "amostras é dado pelas linhas desta matriz.\n",
        "Outro parâmetro de entrada é o fator de split `split_factor`, que é um número real entre 0 e 1. \n",
        "A saída da função são duas matrizes: amostras de treinamento e amostras de validação. \n",
        "A matriz de treinamento conterá o número de linhas dado por `split_factor` vezes o número de amostras.\n",
        "A matriz de validação conterá o restante das amostras."
      ]
    },
    {
      "cell_type": "code",
      "metadata": {
        "ExecuteTime": {
          "end_time": "2017-11-24T10:48:34.659465",
          "start_time": "2017-11-24T10:48:34.654983"
        },
        "id": "LyOrpLLdeDmG",
        "colab_type": "code",
        "colab": {
          "base_uri": "https://localhost:8080/",
          "height": 187
        },
        "outputId": "86375d82-9beb-41a5-88ed-f7f993cd6633"
      },
      "source": [
        "# Entrada, matriz contendo 10 amostras e 9 atributos\n",
        "aa = np.arange(90).reshape(10,9)\n",
        "print(aa)"
      ],
      "execution_count": 359,
      "outputs": [
        {
          "output_type": "stream",
          "text": [
            "[[ 0  1  2  3  4  5  6  7  8]\n",
            " [ 9 10 11 12 13 14 15 16 17]\n",
            " [18 19 20 21 22 23 24 25 26]\n",
            " [27 28 29 30 31 32 33 34 35]\n",
            " [36 37 38 39 40 41 42 43 44]\n",
            " [45 46 47 48 49 50 51 52 53]\n",
            " [54 55 56 57 58 59 60 61 62]\n",
            " [63 64 65 66 67 68 69 70 71]\n",
            " [72 73 74 75 76 77 78 79 80]\n",
            " [81 82 83 84 85 86 87 88 89]]\n"
          ],
          "name": "stdout"
        }
      ]
    },
    {
      "cell_type": "code",
      "metadata": {
        "ExecuteTime": {
          "end_time": "2017-11-24T10:48:34.665589",
          "start_time": "2017-11-24T10:48:34.661245"
        },
        "id": "4u4ZWVsEeDmI",
        "colab_type": "code",
        "colab": {
          "base_uri": "https://localhost:8080/",
          "height": 153
        },
        "outputId": "ac158c86-4f5a-4e68-fde1-586f987cc645"
      },
      "source": [
        "# Saída da função t,v = split(aa, 0.8)  # utilizado split_factor de 80%\n",
        "t = np.arange(72).reshape(8,9)\n",
        "print(t)"
      ],
      "execution_count": 307,
      "outputs": [
        {
          "output_type": "stream",
          "text": [
            "[[ 0  1  2  3  4  5  6  7  8]\n",
            " [ 9 10 11 12 13 14 15 16 17]\n",
            " [18 19 20 21 22 23 24 25 26]\n",
            " [27 28 29 30 31 32 33 34 35]\n",
            " [36 37 38 39 40 41 42 43 44]\n",
            " [45 46 47 48 49 50 51 52 53]\n",
            " [54 55 56 57 58 59 60 61 62]\n",
            " [63 64 65 66 67 68 69 70 71]]\n"
          ],
          "name": "stdout"
        }
      ]
    },
    {
      "cell_type": "code",
      "metadata": {
        "ExecuteTime": {
          "end_time": "2017-11-24T10:48:34.671172",
          "start_time": "2017-11-24T10:48:34.667187"
        },
        "id": "XyGauOiseDmK",
        "colab_type": "code",
        "colab": {
          "base_uri": "https://localhost:8080/",
          "height": 51
        },
        "outputId": "24decd7f-898f-4149-a5b5-9b7a0b81f2c4"
      },
      "source": [
        "v = np.arange(72,90).reshape(2,9)\n",
        "print(v)"
      ],
      "execution_count": 274,
      "outputs": [
        {
          "output_type": "stream",
          "text": [
            "[[72 73 74 75 76 77 78 79 80]\n",
            " [81 82 83 84 85 86 87 88 89]]\n"
          ],
          "name": "stdout"
        }
      ]
    },
    {
      "cell_type": "code",
      "metadata": {
        "ExecuteTime": {
          "end_time": "2017-11-24T10:48:34.679672",
          "start_time": "2017-11-24T10:48:34.672840"
        },
        "id": "hV4qwjYgeDmO",
        "colab_type": "code",
        "colab": {
          "base_uri": "https://localhost:8080/",
          "height": 204
        },
        "outputId": "533816f6-6f10-4065-800f-42e255e103d6"
      },
      "source": [
        "# Evite o uso de laço explícito\n",
        "# Não utilize outras bibliotecas além do NumPy\n",
        "def split(dados, split_factor):\n",
        "    '''\n",
        "    divide a matriz dados em dois conjuntos:\n",
        "    matriz train: split_factor * n. de linhas de dados\n",
        "    matriz val: (1-split_factor) * n. de linhas de dados\n",
        "    parametros entrada:\n",
        "        dados: matriz de entrada\n",
        "        split_factor: entre 0. e 1. - fator de divisão em duas matrizes\n",
        "    parametros de saída:\n",
        "        train : matriz com as linhas iniciais de dados\n",
        "        val: matriz com as linhas restantes\n",
        "    '''\n",
        "    ## Truncando números de linhas para garantir que numero de linhas de train e val somadas sejam equivalentes a número de linhas de dados\n",
        "    ## na prática eu usaria a lib math e a funçao trunc, porém só foi pedido lib numpy\n",
        "    train_sample_size = int( round(split_factor * aa.shape[0], 0) )\n",
        "    val_sample_size = int( round((1 - split_factor) * aa.shape[0], 0) )\n",
        "\n",
        "    train = dados[:train_sample_size,:]\n",
        "    val = dados[-val_sample_size:,:]\n",
        "\n",
        "    train, val\n",
        "\n",
        "    dados\n",
        "    return train, val\n",
        "\n",
        "t,v = split(aa, 0.8)\n",
        "print('t=\\n', t)\n",
        "print('v=\\n', v)"
      ],
      "execution_count": 400,
      "outputs": [
        {
          "output_type": "stream",
          "text": [
            "t=\n",
            " [[ 0  1  2  3  4  5  6  7  8  9]\n",
            " [10 11 12 13 14 15 16 17 18 19]\n",
            " [20 21 22 23 24 25 26 27 28 29]\n",
            " [30 31 32 33 34 35 36 37 38 39]\n",
            " [40 41 42 43 44 45 46 47 48 49]\n",
            " [50 51 52 53 54 55 56 57 58 59]\n",
            " [60 61 62 63 64 65 66 67 68 69]]\n",
            "v=\n",
            " [[70 71 72 73 74 75 76 77 78 79]\n",
            " [80 81 82 83 84 85 86 87 88 89]]\n"
          ],
          "name": "stdout"
        }
      ]
    },
    {
      "cell_type": "markdown",
      "metadata": {
        "ExecuteTime": {
          "end_time": "2017-11-24T10:48:34.684472",
          "start_time": "2017-11-24T10:48:34.681557"
        },
        "collapsed": true,
        "id": "78Cn6MnPeDmS",
        "colab_type": "text"
      },
      "source": [
        "### Exercício: Teste sua função com outros valores"
      ]
    },
    {
      "cell_type": "code",
      "metadata": {
        "id": "v-eQP6oHeDmT",
        "colab_type": "code",
        "colab": {
          "base_uri": "https://localhost:8080/",
          "height": 391
        },
        "outputId": "169e71bf-1f6b-459c-8fc6-de61a380a4d8"
      },
      "source": [
        "# Código robusto a qualquer dimensão de array\n",
        "aa = np.arange(100).reshape(10,10)\n",
        "print(aa)\n",
        "\n",
        "t,v = split(aa, 0.15)\n",
        "print('t=\\n', t)\n",
        "print('v=\\n', v)"
      ],
      "execution_count": 405,
      "outputs": [
        {
          "output_type": "stream",
          "text": [
            "[[ 0  1  2  3  4  5  6  7  8  9]\n",
            " [10 11 12 13 14 15 16 17 18 19]\n",
            " [20 21 22 23 24 25 26 27 28 29]\n",
            " [30 31 32 33 34 35 36 37 38 39]\n",
            " [40 41 42 43 44 45 46 47 48 49]\n",
            " [50 51 52 53 54 55 56 57 58 59]\n",
            " [60 61 62 63 64 65 66 67 68 69]\n",
            " [70 71 72 73 74 75 76 77 78 79]\n",
            " [80 81 82 83 84 85 86 87 88 89]\n",
            " [90 91 92 93 94 95 96 97 98 99]]\n",
            "t=\n",
            " [[ 0  1  2  3  4  5  6  7  8  9]\n",
            " [10 11 12 13 14 15 16 17 18 19]]\n",
            "v=\n",
            " [[20 21 22 23 24 25 26 27 28 29]\n",
            " [30 31 32 33 34 35 36 37 38 39]\n",
            " [40 41 42 43 44 45 46 47 48 49]\n",
            " [50 51 52 53 54 55 56 57 58 59]\n",
            " [60 61 62 63 64 65 66 67 68 69]\n",
            " [70 71 72 73 74 75 76 77 78 79]\n",
            " [80 81 82 83 84 85 86 87 88 89]\n",
            " [90 91 92 93 94 95 96 97 98 99]]\n"
          ],
          "name": "stdout"
        }
      ]
    },
    {
      "cell_type": "markdown",
      "metadata": {
        "id": "g113cvI5Sq2k",
        "colab_type": "text"
      },
      "source": [
        "# Fim do Notebook"
      ]
    }
  ]
}