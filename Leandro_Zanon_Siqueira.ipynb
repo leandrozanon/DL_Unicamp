{
  "nbformat": 4,
  "nbformat_minor": 0,
  "metadata": {
    "kernelspec": {
      "display_name": "Python 3",
      "language": "python",
      "name": "python3"
    },
    "language_info": {
      "codemirror_mode": {
        "name": "ipython",
        "version": 3
      },
      "file_extension": ".py",
      "mimetype": "text/x-python",
      "name": "python",
      "nbconvert_exporter": "python",
      "pygments_lexer": "ipython3",
      "version": "3.6.5"
    },
    "toc": {
      "base_numbering": 1,
      "nav_menu": {
        "height": "354px",
        "width": "252px"
      },
      "number_sections": true,
      "sideBar": true,
      "skip_h1_title": false,
      "title_cell": "Table of Contents",
      "title_sidebar": "Contents",
      "toc_cell": false,
      "toc_position": {},
      "toc_section_display": "block",
      "toc_window_display": false
    },
    "varInspector": {
      "cols": {
        "lenName": 16,
        "lenType": 16,
        "lenVar": 40
      },
      "kernels_config": {
        "python": {
          "delete_cmd_postfix": "",
          "delete_cmd_prefix": "del ",
          "library": "var_list.py",
          "varRefreshCmd": "print(var_dic_list())"
        },
        "r": {
          "delete_cmd_postfix": ") ",
          "delete_cmd_prefix": "rm(",
          "library": "var_list.r",
          "varRefreshCmd": "cat(var_dic_list()) "
        }
      },
      "types_to_exclude": [
        "module",
        "function",
        "builtin_function_or_method",
        "instance",
        "_Feature"
      ],
      "window_display": false
    },
    "colab": {
      "name": "Leandro Zanon Siqueira.ipynb",
      "provenance": [],
      "collapsed_sections": [],
      "toc_visible": true,
      "include_colab_link": true
    }
  },
  "cells": [
    {
      "cell_type": "markdown",
      "metadata": {
        "id": "view-in-github",
        "colab_type": "text"
      },
      "source": [
        "<a href=\"https://colab.research.google.com/github/leandrozanon/DL_Unicamp/blob/master/Leandro_Zanon_Siqueira.ipynb\" target=\"_parent\"><img src=\"https://colab.research.google.com/assets/colab-badge.svg\" alt=\"Open In Colab\"/></a>"
      ]
    },
    {
      "cell_type": "markdown",
      "metadata": {
        "id": "NUsqYALqeDij",
        "colab_type": "text"
      },
      "source": [
        "# Curso Deep Learning - Exercício pré-curso Python"
      ]
    },
    {
      "cell_type": "markdown",
      "metadata": {
        "id": "dCImmucreDil",
        "colab_type": "text"
      },
      "source": [
        "Este é um notebook Jupyter contendo exercícios de programação em Python.\n",
        "Estes exercícios servem para verificar os conhecimentos da linguagem Python.\n",
        "\n",
        "Esta lista de exercício é um guia de estudo. Para fazer os exercícios será necessário estudar funções básicas do Python e consultar documentação e tutoriais disponíveis na Internet."
      ]
    },
    {
      "cell_type": "markdown",
      "metadata": {
        "id": "KFYP4jUPeDil",
        "colab_type": "text"
      },
      "source": [
        "### Python"
      ]
    },
    {
      "cell_type": "markdown",
      "metadata": {
        "id": "m4y_0BiqeDim",
        "colab_type": "text"
      },
      "source": [
        "Estes exercícios devem ser feitos com o Python 3.\n",
        "Recomenda-se utilizar o Google Colab para fazer esses exercícios (https://colab.research.google.com/) pois o curso será oferecido nele. A vantagem do Colab é ser uma plataforma gratuito que permite o uso de GPU, fundamental para a realização dos exercícios de deep learning.\n"
      ]
    },
    {
      "cell_type": "markdown",
      "metadata": {
        "id": "61BDrHC2eDin",
        "colab_type": "text"
      },
      "source": [
        "### Jupyter notebook"
      ]
    },
    {
      "cell_type": "markdown",
      "metadata": {
        "id": "Yc340OOqeDio",
        "colab_type": "text"
      },
      "source": [
        "Este é um Notebook Jupyter. Um notebook Jupyter é uma mistura de linguagem Markdown para formatar texto (como uma Wiki) e um programa Python. É muito usado entre as pessoas que trabalham com Data Science e Machine Learning em Python.\n"
      ]
    },
    {
      "cell_type": "markdown",
      "metadata": {
        "id": "qQduOjP1eDip",
        "colab_type": "text"
      },
      "source": [
        "Você pode adicionar quantas células quiser neste notebook para deixar suas respostas bem organizadas."
      ]
    },
    {
      "cell_type": "markdown",
      "metadata": {
        "id": "MY2ghASBeDiq",
        "colab_type": "text"
      },
      "source": [
        "# Exercícios básicos"
      ]
    },
    {
      "cell_type": "markdown",
      "metadata": {
        "id": "-n_ngjhFeDir",
        "colab_type": "text"
      },
      "source": [
        "Vamos começar! Comece imprimindo seu nome e e-mail aqui:"
      ]
    },
    {
      "cell_type": "code",
      "metadata": {
        "ExecuteTime": {
          "end_time": "2019-12-10T17:56:39.571965Z",
          "start_time": "2019-12-10T17:56:39.553102Z"
        },
        "id": "c6k4_EtBeDis",
        "colab_type": "code",
        "colab": {}
      },
      "source": [
        "# preencha com seus dados\n",
        "print('My name is Leandro Zanon Siqueira')\n",
        "print('My email is leandrozanon7@gmail.com')"
      ],
      "execution_count": null,
      "outputs": []
    },
    {
      "cell_type": "markdown",
      "metadata": {
        "id": "M_4o6k_ceDix",
        "colab_type": "text"
      },
      "source": [
        "## Listas"
      ]
    },
    {
      "cell_type": "markdown",
      "metadata": {
        "ExecuteTime": {
          "end_time": "2017-07-11T19:32:04.310368",
          "start_time": "2017-07-11T19:32:04.302283"
        },
        "id": "f-htX9EheDiy",
        "colab_type": "text"
      },
      "source": [
        "Iremos utilizar muitas listas no curso Deep Learning.\n",
        "Seguem alguns exercícios com lista. Python é muito bom para processar listas. Uma lista é uma sequência de elementos \n",
        "separados por vírgula dentro de chaves:"
      ]
    },
    {
      "cell_type": "code",
      "metadata": {
        "ExecuteTime": {
          "end_time": "2019-12-10T17:56:39.584119Z",
          "start_time": "2019-12-10T17:56:39.577266Z"
        },
        "id": "dFBFTfzHeDiy",
        "colab_type": "code",
        "colab": {}
      },
      "source": [
        "mylist = [5, 8, 'abc', 0, 8.3]"
      ],
      "execution_count": null,
      "outputs": []
    },
    {
      "cell_type": "markdown",
      "metadata": {
        "ExecuteTime": {
          "end_time": "2017-07-11T19:20:42.951254",
          "start_time": "2017-07-11T19:20:42.947609"
        },
        "id": "DOugXK2xeDi2",
        "colab_type": "text"
      },
      "source": [
        "### Imprimindo o número de elementos de uma `mylist` e alguns de seus elementos. Veja como isso pode ser feito."
      ]
    },
    {
      "cell_type": "code",
      "metadata": {
        "ExecuteTime": {
          "end_time": "2019-12-10T17:56:39.600238Z",
          "start_time": "2019-12-10T17:56:39.589826Z"
        },
        "id": "Cqyjm2z8eDi3",
        "colab_type": "code",
        "colab": {
          "base_uri": "https://localhost:8080/",
          "height": 68
        },
        "outputId": "c97dab0a-c5cb-46d9-9e38-c0c83b1248a1"
      },
      "source": [
        "print(len(mylist))\n",
        "print(mylist[0])\n",
        "print(mylist[-1])  # observe o índice -1 (o que isso significa?)"
      ],
      "execution_count": null,
      "outputs": [
        {
          "output_type": "stream",
          "text": [
            "5\n",
            "5\n",
            "8.3\n"
          ],
          "name": "stdout"
        }
      ]
    },
    {
      "cell_type": "markdown",
      "metadata": {
        "id": "Af02in_ReDi6",
        "colab_type": "text"
      },
      "source": [
        "## Seja uma lista de 10 elementos numéricos sequenciais, começando em zero"
      ]
    },
    {
      "cell_type": "markdown",
      "metadata": {
        "id": "IRvoIE_xeDi7",
        "colab_type": "text"
      },
      "source": [
        "O código a seguir é típico para criar uma lista com os 10 primeiros inteiros maiores ou iguais a zero: inicializa-se lista vazia, para cada i entre 0 e 10, faz append na lista a:"
      ]
    },
    {
      "cell_type": "code",
      "metadata": {
        "ExecuteTime": {
          "end_time": "2019-12-10T17:56:39.613751Z",
          "start_time": "2019-12-10T17:56:39.604994Z"
        },
        "id": "c0008PXSeDi8",
        "colab_type": "code",
        "colab": {
          "base_uri": "https://localhost:8080/",
          "height": 34
        },
        "outputId": "2c710cdf-dfff-42a6-9ace-83bb01f3d47b"
      },
      "source": [
        "a = []\n",
        "for i in range(10):\n",
        "    a.append(i)\n",
        "print(a)"
      ],
      "execution_count": null,
      "outputs": [
        {
          "output_type": "stream",
          "text": [
            "[0, 1, 2, 3, 4, 5, 6, 7, 8, 9]\n"
          ],
          "name": "stdout"
        }
      ]
    },
    {
      "cell_type": "markdown",
      "metadata": {
        "id": "-5HrV05ceDi_",
        "colab_type": "text"
      },
      "source": [
        "## List Comprehension"
      ]
    },
    {
      "cell_type": "markdown",
      "metadata": {
        "id": "4Zq98JpxeDjA",
        "colab_type": "text"
      },
      "source": [
        "Esta mesma lista pode ser criada utilizando a construção denominada \"List Comprehension\" ou\n",
        "\"Compreensão de Lista\" em português. Coloque este termo no Google adicionando python na frente na forma:\n",
        "\"python comprehension list\" e você poderá ver vários exemplos e tutoriais sobre o assunto. É uma forma compacta que fazer um append iterativo numa lista:\n",
        "\n",
        "Veja como o trecho acima foi reduzido para uma linha apenas:"
      ]
    },
    {
      "cell_type": "code",
      "metadata": {
        "ExecuteTime": {
          "end_time": "2019-12-10T17:56:39.624474Z",
          "start_time": "2019-12-10T17:56:39.616642Z"
        },
        "id": "Seuoicj8eDjB",
        "colab_type": "code",
        "colab": {
          "base_uri": "https://localhost:8080/",
          "height": 34
        },
        "outputId": "a60ec2f0-902b-425d-8f6d-c9ea9804ebcc"
      },
      "source": [
        "a = [i for i in range(10)]\n",
        "print(a)"
      ],
      "execution_count": null,
      "outputs": [
        {
          "output_type": "stream",
          "text": [
            "[0, 1, 2, 3, 4, 5, 6, 7, 8, 9]\n"
          ],
          "name": "stdout"
        }
      ]
    },
    {
      "cell_type": "markdown",
      "metadata": {
        "id": "USOmBZcMeDjF",
        "colab_type": "text"
      },
      "source": [
        "### Exercicío: Analise o trecho de programa a seguir:"
      ]
    },
    {
      "cell_type": "code",
      "metadata": {
        "ExecuteTime": {
          "end_time": "2019-12-10T17:56:39.643842Z",
          "start_time": "2019-12-10T17:56:39.628664Z"
        },
        "id": "7y8pPtpceDjG",
        "colab_type": "code",
        "colab": {
          "base_uri": "https://localhost:8080/",
          "height": 34
        },
        "outputId": "0d6cf732-ade8-4ef7-ad98-3e1ca4dc0e3a"
      },
      "source": [
        "m_list = ['r', 'i', 'c', 'a', 'r', 'd', 'o']\n",
        "new_list = []\n",
        "for k,item in enumerate(m_list):\n",
        "    new_list.append(str(k) + item)\n",
        "print(new_list)"
      ],
      "execution_count": null,
      "outputs": [
        {
          "output_type": "stream",
          "text": [
            "['0r', '1i', '2c', '3a', '4r', '5d', '6o']\n"
          ],
          "name": "stdout"
        }
      ]
    },
    {
      "cell_type": "markdown",
      "metadata": {
        "id": "s89o_lsWeDjJ",
        "colab_type": "text"
      },
      "source": [
        "- Explique o que o enumerate faz no programa acima:\n",
        "\n",
        "Explicação: O enumerate atribui um contador a cada item da lista m_list"
      ]
    },
    {
      "cell_type": "markdown",
      "metadata": {
        "id": "bX2DUvvoeDjK",
        "colab_type": "text"
      },
      "source": [
        "### Exercício: Repita o mesmo trecho acima de criar a lista new_list, porém utilizando list comprehension:\n",
        "   "
      ]
    },
    {
      "cell_type": "code",
      "metadata": {
        "ExecuteTime": {
          "end_time": "2019-12-10T17:56:39.657736Z",
          "start_time": "2019-12-10T17:56:39.650100Z"
        },
        "id": "5Ltn2M0IeDjL",
        "colab_type": "code",
        "colab": {
          "base_uri": "https://localhost:8080/",
          "height": 34
        },
        "outputId": "30f1c523-dd14-4b96-c181-d2e9bb88ff84"
      },
      "source": [
        "m_list = ['r', 'i', 'c', 'a', 'r', 'd', 'o']\n",
        "n_list = [str(i)+item for i,item in enumerate(m_list)] # utilize aqui o list comprehension\n",
        "n_list"
      ],
      "execution_count": null,
      "outputs": [
        {
          "output_type": "execute_result",
          "data": {
            "text/plain": [
              "['0r', '1i', '2c', '3a', '4r', '5d', '6o']"
            ]
          },
          "metadata": {
            "tags": []
          },
          "execution_count": 18
        }
      ]
    },
    {
      "cell_type": "markdown",
      "metadata": {
        "id": "C33NJ04geDjN",
        "colab_type": "text"
      },
      "source": [
        "## Fatiamento em Python"
      ]
    },
    {
      "cell_type": "markdown",
      "metadata": {
        "id": "AdCosjffeDjO",
        "colab_type": "text"
      },
      "source": [
        "Um conceito fundamental em Python é o do fatiamento \"slicing\", em inglês. É um conceito que será muito usado\n",
        "durante todo o curso. Estude bem isso. Inicialmente iremos trabalhar com fatiamento de lista, mas posteriormente\n",
        "com arrays (ou tensores) utilizando o NumPy"
      ]
    },
    {
      "cell_type": "code",
      "metadata": {
        "ExecuteTime": {
          "end_time": "2019-12-10T17:56:39.666017Z",
          "start_time": "2019-12-10T17:56:39.661198Z"
        },
        "id": "mjpVp6tWeDjQ",
        "colab_type": "code",
        "colab": {
          "base_uri": "https://localhost:8080/",
          "height": 34
        },
        "outputId": "b116374c-c720-4143-ec47-26b457d9eaf2"
      },
      "source": [
        "print(a[3:5])"
      ],
      "execution_count": null,
      "outputs": [
        {
          "output_type": "stream",
          "text": [
            "[3, 4]\n"
          ],
          "name": "stdout"
        }
      ]
    },
    {
      "cell_type": "markdown",
      "metadata": {
        "id": "a-4C5w3JeDjW",
        "colab_type": "text"
      },
      "source": [
        "### Exercício: Crie e imprima uma lista a partir da lista \"a\" já criada, porém apenas alguns elementos"
      ]
    },
    {
      "cell_type": "code",
      "metadata": {
        "ExecuteTime": {
          "end_time": "2019-12-10T17:56:39.676947Z",
          "start_time": "2019-12-10T17:56:39.670923Z"
        },
        "id": "bxck0sgGeDjW",
        "colab_type": "code",
        "colab": {
          "base_uri": "https://localhost:8080/",
          "height": 85
        },
        "outputId": "1479c948-f213-4f2f-805b-9a5c138f9ba3"
      },
      "source": [
        "# imprima os elementos ímpares de a\n",
        "print(a[1::2])\n",
        "# imprima os elementos pares de a\n",
        "print(a[::2])\n",
        "# imprima os últimos 3 elementos da lista (utilize índice negativo, pesquise na Internet)\n",
        "print(a[-3:])\n",
        "# Imprima os 3 primeiros elementos da lista (veja quando é possível ignorar valores iniciais e finais)\n",
        "print(a[:3])"
      ],
      "execution_count": null,
      "outputs": [
        {
          "output_type": "stream",
          "text": [
            "[1, 3, 5, 7, 9]\n",
            "[0, 2, 4, 6, 8]\n",
            "[7, 8, 9]\n",
            "[0, 1, 2]\n"
          ],
          "name": "stdout"
        }
      ]
    },
    {
      "cell_type": "markdown",
      "metadata": {
        "ExecuteTime": {
          "end_time": "2017-11-24T10:48:33.572314",
          "start_time": "2017-11-24T10:48:33.568302"
        },
        "id": "l_8rbs1FeDjZ",
        "colab_type": "text"
      },
      "source": [
        "### Veja o significado do passo, i.e. o terceiro parâmetro do \"fatiamento\":"
      ]
    },
    {
      "cell_type": "code",
      "metadata": {
        "ExecuteTime": {
          "end_time": "2019-12-10T17:56:39.685197Z",
          "start_time": "2019-12-10T17:56:39.680220Z"
        },
        "id": "IaApeoHHeDja",
        "colab_type": "code",
        "colab": {
          "base_uri": "https://localhost:8080/",
          "height": 51
        },
        "outputId": "12ba6bfc-b4d4-4bd1-abe3-8cd90170b241"
      },
      "source": [
        "print(a[::2])\n",
        "print(a[::-1])"
      ],
      "execution_count": null,
      "outputs": [
        {
          "output_type": "stream",
          "text": [
            "[0, 2, 4, 6, 8]\n",
            "[9, 8, 7, 6, 5, 4, 3, 2, 1, 0]\n"
          ],
          "name": "stdout"
        }
      ]
    },
    {
      "cell_type": "markdown",
      "metadata": {
        "ExecuteTime": {
          "end_time": "2017-11-24T10:48:33.577743",
          "start_time": "2017-11-24T10:48:33.574177"
        },
        "id": "DFf-3qimeDje",
        "colab_type": "text"
      },
      "source": [
        "### Exercício: Imprima os elementos ímpares na order reversa, do maior para o menor"
      ]
    },
    {
      "cell_type": "code",
      "metadata": {
        "ExecuteTime": {
          "end_time": "2019-12-10T17:56:39.692699Z",
          "start_time": "2019-12-10T17:56:39.688201Z"
        },
        "id": "9qtOsr5_eDje",
        "colab_type": "code",
        "colab": {
          "base_uri": "https://localhost:8080/",
          "height": 34
        },
        "outputId": "53c245c2-d2ef-474d-df1d-2ce367328f6f"
      },
      "source": [
        "print(a[::-2])"
      ],
      "execution_count": null,
      "outputs": [
        {
          "output_type": "stream",
          "text": [
            "[9, 7, 5, 3, 1]\n"
          ],
          "name": "stdout"
        }
      ]
    },
    {
      "cell_type": "markdown",
      "metadata": {
        "id": "faL-0MuJeDjh",
        "colab_type": "text"
      },
      "source": [
        "## Tuplas"
      ]
    },
    {
      "cell_type": "markdown",
      "metadata": {
        "id": "RvcMCaj1eDji",
        "colab_type": "text"
      },
      "source": [
        "\n",
        "Dominar o conceito de tuplas é importante pois tuplas são estruturas muito utilizadas no Python."
      ]
    },
    {
      "cell_type": "code",
      "metadata": {
        "ExecuteTime": {
          "end_time": "2019-12-10T17:56:39.700112Z",
          "start_time": "2019-12-10T17:56:39.695877Z"
        },
        "id": "ulK_d0nTeDjj",
        "colab_type": "code",
        "colab": {
          "base_uri": "https://localhost:8080/",
          "height": 34
        },
        "outputId": "dc9170be-2e9d-46ad-d398-d7adba34027b"
      },
      "source": [
        "b = tuple(a)\n",
        "print(b)"
      ],
      "execution_count": null,
      "outputs": [
        {
          "output_type": "stream",
          "text": [
            "(0, 1, 2, 3, 4, 5, 6, 7, 8, 9)\n"
          ],
          "name": "stdout"
        }
      ]
    },
    {
      "cell_type": "markdown",
      "metadata": {
        "id": "q6r1skOkeDjn",
        "colab_type": "text"
      },
      "source": [
        "### Exercício: Qual é a principal diferença entre uma lista e uma tupla?\n",
        "\n",
        "Resposta: A principal diferença é que a tupla não permite atribuição/alteração por elemento, mas a lista permite."
      ]
    },
    {
      "cell_type": "markdown",
      "metadata": {
        "id": "Y8giHwVSeDjo",
        "colab_type": "text"
      },
      "source": [
        "# Dicionários em Python"
      ]
    },
    {
      "cell_type": "markdown",
      "metadata": {
        "id": "frz1Df11eDjp",
        "colab_type": "text"
      },
      "source": [
        "Python possui uma estrutura de dados muito versátil denominada dicionário.\n",
        "No curso Deep Learning, os parâmetros da rede neural serão armazenadas na forma de dicionário. Veja a seguir alguns exemplos de uso de dicionários:"
      ]
    },
    {
      "cell_type": "code",
      "metadata": {
        "ExecuteTime": {
          "end_time": "2019-12-10T17:56:39.708263Z",
          "start_time": "2019-12-10T17:56:39.702983Z"
        },
        "id": "_HVBYEVWeDjq",
        "colab_type": "code",
        "colab": {
          "base_uri": "https://localhost:8080/",
          "height": 34
        },
        "outputId": "73b139be-7401-4bf4-cbdc-10542adab7c9"
      },
      "source": [
        "rob_record = {'nome': 'Roberto', 'idade': 18}\n",
        "print(rob_record['nome'])"
      ],
      "execution_count": null,
      "outputs": [
        {
          "output_type": "stream",
          "text": [
            "Roberto\n"
          ],
          "name": "stdout"
        }
      ]
    },
    {
      "cell_type": "code",
      "metadata": {
        "ExecuteTime": {
          "end_time": "2019-12-10T17:56:39.719554Z",
          "start_time": "2019-12-10T17:56:39.711199Z"
        },
        "id": "7DXeGirmeDjt",
        "colab_type": "code",
        "colab": {
          "base_uri": "https://localhost:8080/",
          "height": 34
        },
        "outputId": "3f4a3d80-2ba6-4280-a6b8-6c1c9496713a"
      },
      "source": [
        "rob_record['idade'] = 20\n",
        "print(rob_record)"
      ],
      "execution_count": null,
      "outputs": [
        {
          "output_type": "stream",
          "text": [
            "{'nome': 'Roberto', 'idade': 20}\n"
          ],
          "name": "stdout"
        }
      ]
    },
    {
      "cell_type": "markdown",
      "metadata": {
        "id": "lsLG0L1weDjw",
        "colab_type": "text"
      },
      "source": [
        "Um lista contendo 3 dicionários:"
      ]
    },
    {
      "cell_type": "code",
      "metadata": {
        "ExecuteTime": {
          "end_time": "2019-12-10T17:56:39.726559Z",
          "start_time": "2019-12-10T17:56:39.722628Z"
        },
        "id": "03DNt-3deDjx",
        "colab_type": "code",
        "colab": {}
      },
      "source": [
        "records = [{'nome':'Alfredo', 'idade': 23},\n",
        "           {'nome':'Fernanda', 'idade': 16},\n",
        "           {'nome':'Carla', 'idade':33}]"
      ],
      "execution_count": null,
      "outputs": []
    },
    {
      "cell_type": "markdown",
      "metadata": {
        "ExecuteTime": {
          "end_time": "2017-11-24T10:48:33.603575",
          "start_time": "2017-11-24T10:48:33.601007"
        },
        "collapsed": true,
        "id": "WqNdLEz-eDj0",
        "colab_type": "text"
      },
      "source": [
        "### Exercício: Acesse o nome da Fernanda: complete e descomente a linha a seguir"
      ]
    },
    {
      "cell_type": "code",
      "metadata": {
        "ExecuteTime": {
          "end_time": "2019-12-10T17:56:39.733629Z",
          "start_time": "2019-12-10T17:56:39.730430Z"
        },
        "id": "t6qvYmDveDj0",
        "colab_type": "code",
        "colab": {
          "base_uri": "https://localhost:8080/",
          "height": 34
        },
        "outputId": "b9e970c3-bb1f-43fa-8ea7-400b0ab0e759"
      },
      "source": [
        "print(records[1]['nome'])"
      ],
      "execution_count": null,
      "outputs": [
        {
          "output_type": "stream",
          "text": [
            "Fernanda\n"
          ],
          "name": "stdout"
        }
      ]
    },
    {
      "cell_type": "markdown",
      "metadata": {
        "ExecuteTime": {
          "end_time": "2017-11-24T10:48:33.609929",
          "start_time": "2017-11-24T10:48:33.605371"
        },
        "id": "nx8vvXy6eDj6",
        "colab_type": "text"
      },
      "source": [
        "### Exercício: crie uma lista com todos os nomes da lista records.\n",
        "\n",
        "O resultado deve ser uma lista ['Alfredo', 'Fernanda', 'Carla']"
      ]
    },
    {
      "cell_type": "code",
      "metadata": {
        "ExecuteTime": {
          "end_time": "2019-12-10T17:56:39.741401Z",
          "start_time": "2019-12-10T17:56:39.736656Z"
        },
        "id": "S5by9XXweDj7",
        "colab_type": "code",
        "colab": {
          "base_uri": "https://localhost:8080/",
          "height": 34
        },
        "outputId": "6e36b145-7b18-41b8-fd1c-c7af347d78c2"
      },
      "source": [
        "# 1. Utilizando a forma tradicional de criar lista com append\n",
        "# porém sem utilizar o for i in range()\n",
        "nlist = []\n",
        "for each_dictionary in records :\n",
        "    nlist.append(each_dictionary['nome'])\n",
        "print(nlist)"
      ],
      "execution_count": null,
      "outputs": [
        {
          "output_type": "stream",
          "text": [
            "['Alfredo', 'Fernanda', 'Carla']\n"
          ],
          "name": "stdout"
        }
      ]
    },
    {
      "cell_type": "code",
      "metadata": {
        "ExecuteTime": {
          "end_time": "2019-12-10T17:56:39.747944Z",
          "start_time": "2019-12-10T17:56:39.744532Z"
        },
        "id": "gIAqzdx0eDj-",
        "colab_type": "code",
        "colab": {
          "base_uri": "https://localhost:8080/",
          "height": 34
        },
        "outputId": "84074b9e-ba63-4500-c81c-0b032b677952"
      },
      "source": [
        "# 2. Utilizando a forma de list comprehension\n",
        "nlist2 = [ each_dictionary2['nome'] for each_dictionary2 in records]\n",
        "print(nlist2)"
      ],
      "execution_count": null,
      "outputs": [
        {
          "output_type": "stream",
          "text": [
            "['Alfredo', 'Fernanda', 'Carla']\n"
          ],
          "name": "stdout"
        }
      ]
    },
    {
      "cell_type": "markdown",
      "metadata": {
        "ExecuteTime": {
          "end_time": "2017-11-24T10:48:33.609929",
          "start_time": "2017-11-24T10:48:33.605371"
        },
        "colab_type": "text",
        "id": "N2nFzvsyDQVE"
      },
      "source": [
        "### Exercício: crie um dicionário com k itens mais frequentes de uma lista.\n",
        "\n",
        "Dada a lista de items `L=['a', 'd', 'a', 'd', 'b', 'd', 'c', 'e', 'a', 'b', 'e', 'e', 'a']` e `k=3`, o resultado deve ser um dicionário cuja chave é o item e o valor é a sua frequencia: {'a': 4, 'e': 3, 'd': 3}\n",
        "\n",
        "Experimente também com outros valores de `L` e `k` para verificar se sua solução está correta."
      ]
    },
    {
      "cell_type": "code",
      "metadata": {
        "id": "UdSfLqGfEXbf",
        "colab_type": "code",
        "colab": {}
      },
      "source": [
        "def top_k(L, k):\n",
        "  # Escreva aqui o código\n",
        "  import operator as op\n",
        "  \n",
        "  key_freq = []\n",
        "  for key in set(L):\n",
        "    key_freq.append( [ key, L.count(key) ] )\n",
        "\n",
        "  sorted_list = sorted(key_freq, key = op.itemgetter(1), reverse = True)[:k]\n",
        "  dicionario = dict(sorted_list)\n",
        "  \n",
        "  return dicionario"
      ],
      "execution_count": null,
      "outputs": []
    },
    {
      "cell_type": "code",
      "metadata": {
        "id": "qeW8jE4mEibX",
        "colab_type": "code",
        "colab": {
          "base_uri": "https://localhost:8080/",
          "height": 34
        },
        "outputId": "92ac57ae-0298-4bbc-c46e-8118bbe1a23c"
      },
      "source": [
        "L =  ['a', 'd', 'a', 'd', 'b', 'd', 'c', 'e', 'a', 'b', 'e', 'e', 'a']\n",
        "resultado = top_k(L = L, k = 3)\n",
        "print(resultado)"
      ],
      "execution_count": null,
      "outputs": [
        {
          "output_type": "stream",
          "text": [
            "{'a': 4, 'e': 3, 'd': 3}\n"
          ],
          "name": "stdout"
        }
      ]
    },
    {
      "cell_type": "markdown",
      "metadata": {
        "id": "mSK2a2qCjEjW",
        "colab_type": "text"
      },
      "source": [
        "# Exercicio: Criando um tokenizador simples\n",
        "Em processamento de linguagem natural, é comum convertemos as palavras de um texto para uma lista de identificadores dessas palavras. Dado o dicionário `V` abaixo onde as chaves são palavras e os valores são seus respectivos identificadores, converta o texto `D` para uma lista de identificadores.\n",
        "\n",
        "Palavras que não existem no dicionário deverão ser convertidas para o identificador do token `unknown`.\n",
        "\n",
        "O código deve ser insensível a maiúsculas (case-insensitive).\n",
        "\n",
        "Se atente que pontuações (vírgulas, ponto final, etc) também são consideradas palavras.\n"
      ]
    },
    {
      "cell_type": "code",
      "metadata": {
        "id": "aDNaUqHjkT6C",
        "colab_type": "code",
        "colab": {
          "base_uri": "https://localhost:8080/",
          "height": 34
        },
        "outputId": "f7a933dc-1b88-4eb3-ad81-84011b853247"
      },
      "source": [
        "V = {'eu': 1, 'de': 2, 'gosto': 3, 'comer': 4, '.': 5, 'unknown': -1}\n",
        "D = 'Eu gosto de comer pizza.'\n",
        "\n",
        "def tokens_to_ids(D, V):\n",
        "  \n",
        "  ## 'Spliting' punctuation and words with regex pattern (re lib) and convert text D to lowercase text\n",
        "  import re\n",
        "  text_list = re.findall(r\"[\\w']+|[.,!?;]\", D.lower())\n",
        "\n",
        "  id_list = []\n",
        "  for word in text_list:\n",
        "    # Used list comprehension to set -1 with clean code\n",
        "    id = [ V[word] if word in set(V) else -1][0]\n",
        "    id_list.append( id )\n",
        "    \n",
        "  return(id_list)\n",
        "\n",
        "print(tokens_to_ids(D, V))"
      ],
      "execution_count": null,
      "outputs": [
        {
          "output_type": "stream",
          "text": [
            "[1, 3, 2, 4, -1, 5]\n"
          ],
          "name": "stdout"
        }
      ]
    },
    {
      "cell_type": "markdown",
      "metadata": {
        "id": "jXUvSuhceDoB",
        "colab_type": "text"
      },
      "source": [
        "# Fim do notebook"
      ]
    }
  ]
}