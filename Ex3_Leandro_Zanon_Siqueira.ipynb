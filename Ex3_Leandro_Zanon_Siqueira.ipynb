{
  "nbformat": 4,
  "nbformat_minor": 0,
  "metadata": {
    "kernelspec": {
      "display_name": "Python 3",
      "language": "python",
      "name": "python3"
    },
    "language_info": {
      "codemirror_mode": {
        "name": "ipython",
        "version": 3
      },
      "file_extension": ".py",
      "mimetype": "text/x-python",
      "name": "python",
      "nbconvert_exporter": "python",
      "pygments_lexer": "ipython3",
      "version": "3.6.5"
    },
    "toc": {
      "base_numbering": 1,
      "nav_menu": {
        "height": "354px",
        "width": "252px"
      },
      "number_sections": true,
      "sideBar": true,
      "skip_h1_title": false,
      "title_cell": "Table of Contents",
      "title_sidebar": "Contents",
      "toc_cell": false,
      "toc_position": {},
      "toc_section_display": "block",
      "toc_window_display": false
    },
    "varInspector": {
      "cols": {
        "lenName": 16,
        "lenType": 16,
        "lenVar": 40
      },
      "kernels_config": {
        "python": {
          "delete_cmd_postfix": "",
          "delete_cmd_prefix": "del ",
          "library": "var_list.py",
          "varRefreshCmd": "print(var_dic_list())"
        },
        "r": {
          "delete_cmd_postfix": ") ",
          "delete_cmd_prefix": "rm(",
          "library": "var_list.r",
          "varRefreshCmd": "cat(var_dic_list()) "
        }
      },
      "types_to_exclude": [
        "module",
        "function",
        "builtin_function_or_method",
        "instance",
        "_Feature"
      ],
      "window_display": false
    },
    "colab": {
      "name": "Ex3 Leandro Zanon Siqueira.ipynb",
      "provenance": [],
      "collapsed_sections": [
        "jXUvSuhceDoB"
      ],
      "toc_visible": true,
      "include_colab_link": true
    }
  },
  "cells": [
    {
      "cell_type": "markdown",
      "metadata": {
        "id": "view-in-github",
        "colab_type": "text"
      },
      "source": [
        "<a href=\"https://colab.research.google.com/github/leandrozanon/DL_Unicamp/blob/master/Ex3_Leandro_Zanon_Siqueira.ipynb\" target=\"_parent\"><img src=\"https://colab.research.google.com/assets/colab-badge.svg\" alt=\"Open In Colab\"/></a>"
      ]
    },
    {
      "cell_type": "markdown",
      "metadata": {
        "id": "NUsqYALqeDij",
        "colab_type": "text"
      },
      "source": [
        "# Curso Deep Learning - Exercícios Python Avançado"
      ]
    },
    {
      "cell_type": "markdown",
      "metadata": {
        "id": "dCImmucreDil",
        "colab_type": "text"
      },
      "source": [
        "Este é um notebook Jupyter contendo exercícios de programação Python Avançado utilizando programação orientada a objetos e iteradores.\n",
        "\n",
        "Esta lista de exercício é um guia de estudo. Para fazer os exercícios será necessário estudar o Python e consultar documentação e tutoriais disponíveis na Internet."
      ]
    },
    {
      "cell_type": "markdown",
      "metadata": {
        "id": "KFYP4jUPeDil",
        "colab_type": "text"
      },
      "source": [
        "### Python"
      ]
    },
    {
      "cell_type": "markdown",
      "metadata": {
        "id": "m4y_0BiqeDim",
        "colab_type": "text"
      },
      "source": [
        "Estes exercícios devem ser feitos com o Python 3.\n",
        "Recomenda-se utilizar o Google Colab para fazer esses exercícios (https://colab.research.google.com/)."
      ]
    },
    {
      "cell_type": "markdown",
      "metadata": {
        "id": "61BDrHC2eDin",
        "colab_type": "text"
      },
      "source": [
        "### Jupyter notebook"
      ]
    },
    {
      "cell_type": "markdown",
      "metadata": {
        "id": "Yc340OOqeDio",
        "colab_type": "text"
      },
      "source": [
        "Este é um Notebook Jupyter. Um notebook Jupyter é uma mistura de linguagem Markdown para formatar texto (como uma Wiki) e um programa Python. É muito usado entre as pessoas que trabalham com Data Science e Machine Learning em Python.\n",
        "\n",
        "Se utilizar o Jupyter notebook, instale o Jupyter nbextensions que é um conjunto de ferramentas auxiliares. Habilite o \"Table of Contents\" do nbextensions para que este notebook fique itemizado. Para o Google Colab, não é possível instalar o nbextensions."
      ]
    },
    {
      "cell_type": "markdown",
      "metadata": {
        "id": "qQduOjP1eDip",
        "colab_type": "text"
      },
      "source": [
        "Você pode adicionar quantas células quiser neste notebook para deixar suas respostas bem organizadas."
      ]
    },
    {
      "cell_type": "markdown",
      "metadata": {
        "id": "y7PzyzOUeDkB",
        "colab_type": "text"
      },
      "source": [
        "Os seguintes exercícios devem usar apenas o pacote Python e NumPy.\n",
        "Não se deve utilizar nenhum outro pacote adicional.\n"
      ]
    },
    {
      "cell_type": "markdown",
      "metadata": {
        "id": "69RtbO1OUjyI",
        "colab_type": "text"
      },
      "source": [
        "## Escreva seu nome"
      ]
    },
    {
      "cell_type": "code",
      "metadata": {
        "id": "aCylLf7TUnX3",
        "colab_type": "code",
        "colab": {
          "base_uri": "https://localhost:8080/",
          "height": 34
        },
        "outputId": "e1c51677-fe2d-4acb-a0d5-81b0ec275ae3"
      },
      "source": [
        "print('Meu nome é: Leandro Zanon Siqueira')"
      ],
      "execution_count": 4,
      "outputs": [
        {
          "output_type": "stream",
          "text": [
            "Meu nome é: Leandro Zanon Siqueira\n"
          ],
          "name": "stdout"
        }
      ]
    },
    {
      "cell_type": "code",
      "metadata": {
        "ExecuteTime": {
          "end_time": "2019-12-10T17:56:40.132948Z",
          "start_time": "2019-12-10T17:56:39.750654Z"
        },
        "id": "E3GfnJKZeDkC",
        "colab_type": "code",
        "colab": {}
      },
      "source": [
        "import numpy as np"
      ],
      "execution_count": 5,
      "outputs": []
    },
    {
      "cell_type": "markdown",
      "metadata": {
        "collapsed": true,
        "id": "ZDj4_-E4eDmW",
        "colab_type": "text"
      },
      "source": [
        "# Programação Orientada a Objetos"
      ]
    },
    {
      "cell_type": "markdown",
      "metadata": {
        "id": "9iSjwvjXeDmW",
        "colab_type": "text"
      },
      "source": [
        "Documentação oficial: https://docs.python.org/3/tutorial/classes.html\n",
        "\n",
        "Forma clássica de definição de uma função:"
      ]
    },
    {
      "cell_type": "code",
      "metadata": {
        "ExecuteTime": {
          "end_time": "2017-11-24T10:48:34.691958",
          "start_time": "2017-11-24T10:48:34.686202"
        },
        "id": "fBsUwWbAeDmX",
        "colab_type": "code",
        "colab": {
          "base_uri": "https://localhost:8080/",
          "height": 34
        },
        "outputId": "35a33c00-dde1-4b58-845f-41b52f970115"
      },
      "source": [
        "data = np.array([13, 63, 5, 378, 58, 40])\n",
        "\n",
        "def avg(d):\n",
        "    return sum(d)/len(d)\n",
        "    \n",
        "avg(data)"
      ],
      "execution_count": 79,
      "outputs": [
        {
          "output_type": "execute_result",
          "data": {
            "text/plain": [
              "92.83333333333333"
            ]
          },
          "metadata": {
            "tags": []
          },
          "execution_count": 79
        }
      ]
    },
    {
      "cell_type": "markdown",
      "metadata": {
        "id": "13iDjTFGeDmZ",
        "colab_type": "text"
      },
      "source": [
        "## Definição da classe, variáveis, inicialização e método"
      ]
    },
    {
      "cell_type": "markdown",
      "metadata": {
        "id": "d_P6GN9DeDma",
        "colab_type": "text"
      },
      "source": [
        "Definição da classe `MyAvg`, contendo duas variávels: `id` (compartilhada) e `d`. A classe possui os métodos de inicialização (`__init__`) e `avg`.\n",
        "\n",
        "- **Classe** é uma forma de definir um tipo abstrato de dados\n",
        "- **Instância** de uma classe é chamada **objeto**\n",
        "- Operadores ou funções de uma classe são chamados **métodos**\n",
        "- **Variáveis de instância** são variáveis associadas à instância\n",
        "- **Variáveis de classe** são variáveis compartilhada com todas as instâncias da classe\n",
        "\n",
        "O nome de uma classe é usualmente escrita usando *Camel case* enquanto que métodos são\n",
        "escritos com caixa baixa."
      ]
    },
    {
      "cell_type": "code",
      "metadata": {
        "ExecuteTime": {
          "end_time": "2017-11-24T10:48:34.698207",
          "start_time": "2017-11-24T10:48:34.693790"
        },
        "id": "wN7jqMJqeDma",
        "colab_type": "code",
        "colab": {}
      },
      "source": [
        "class MyAvg:\n",
        "    id = 0.33                # variável compartilhada com todas as instâncias\n",
        "    \n",
        "    def __init__(self,data):\n",
        "        self.d = data        # variável associada a cada instância \n",
        "        \n",
        "    def avg(self): # método para calcular a média\n",
        "        return sum(self.d) / len(self.d)"
      ],
      "execution_count": 80,
      "outputs": []
    },
    {
      "cell_type": "markdown",
      "metadata": {
        "ExecuteTime": {
          "end_time": "2017-09-28T22:37:21.312216Z",
          "start_time": "2017-09-28T22:37:21.306739Z"
        },
        "id": "SwJ5XolkeDmc",
        "colab_type": "text"
      },
      "source": [
        "Objetos `a` e `b` são instâncias da classe `MyAvg`.\n",
        "Instanciar uma classe é inicializá-la através da chamada ao método __init__:"
      ]
    },
    {
      "cell_type": "code",
      "metadata": {
        "ExecuteTime": {
          "end_time": "2017-11-24T10:48:34.702739",
          "start_time": "2017-11-24T10:48:34.699932"
        },
        "id": "yxU5PJ6eeDmd",
        "colab_type": "code",
        "colab": {}
      },
      "source": [
        "a = MyAvg(data)\n",
        "b = MyAvg(2 * data)"
      ],
      "execution_count": 81,
      "outputs": []
    },
    {
      "cell_type": "code",
      "metadata": {
        "id": "vVr0rEsHZdj4",
        "colab_type": "code",
        "colab": {
          "base_uri": "https://localhost:8080/",
          "height": 510
        },
        "outputId": "440b9cd5-8b3b-42d3-bb7d-bdb60e0ad2e6"
      },
      "source": [
        "type(a)\n",
        "dir(a)"
      ],
      "execution_count": 82,
      "outputs": [
        {
          "output_type": "execute_result",
          "data": {
            "text/plain": [
              "['__class__',\n",
              " '__delattr__',\n",
              " '__dict__',\n",
              " '__dir__',\n",
              " '__doc__',\n",
              " '__eq__',\n",
              " '__format__',\n",
              " '__ge__',\n",
              " '__getattribute__',\n",
              " '__gt__',\n",
              " '__hash__',\n",
              " '__init__',\n",
              " '__init_subclass__',\n",
              " '__le__',\n",
              " '__lt__',\n",
              " '__module__',\n",
              " '__ne__',\n",
              " '__new__',\n",
              " '__reduce__',\n",
              " '__reduce_ex__',\n",
              " '__repr__',\n",
              " '__setattr__',\n",
              " '__sizeof__',\n",
              " '__str__',\n",
              " '__subclasshook__',\n",
              " '__weakref__',\n",
              " 'avg',\n",
              " 'd',\n",
              " 'id']"
            ]
          },
          "metadata": {
            "tags": []
          },
          "execution_count": 82
        }
      ]
    },
    {
      "cell_type": "markdown",
      "metadata": {
        "id": "THMVRSwEeDmf",
        "colab_type": "text"
      },
      "source": [
        "Aplicação do método `avg()`, retorna a média dos dados dos objetos a e b:"
      ]
    },
    {
      "cell_type": "code",
      "metadata": {
        "ExecuteTime": {
          "end_time": "2017-11-24T10:48:34.708357",
          "start_time": "2017-11-24T10:48:34.704485"
        },
        "id": "EqM932nReDmg",
        "colab_type": "code",
        "colab": {
          "base_uri": "https://localhost:8080/",
          "height": 51
        },
        "outputId": "683b3357-c6a8-4e23-80d2-5fc6851a529f"
      },
      "source": [
        "print(a.avg())\n",
        "print(b.avg())"
      ],
      "execution_count": 83,
      "outputs": [
        {
          "output_type": "stream",
          "text": [
            "92.83333333333333\n",
            "185.66666666666666\n"
          ],
          "name": "stdout"
        }
      ]
    },
    {
      "cell_type": "code",
      "metadata": {
        "ExecuteTime": {
          "end_time": "2017-11-24T10:48:34.713753",
          "start_time": "2017-11-24T10:48:34.710083"
        },
        "id": "BxVSNjRGeDmi",
        "colab_type": "code",
        "colab": {
          "base_uri": "https://localhost:8080/",
          "height": 51
        },
        "outputId": "88bcb8c9-d40a-4d29-fc4d-15eddbdc9185"
      },
      "source": [
        "# Imprima os valores dos dados associados aos objetos a e b:\n",
        "print(a)\n",
        "print(b)"
      ],
      "execution_count": 84,
      "outputs": [
        {
          "output_type": "stream",
          "text": [
            "<__main__.MyAvg object at 0x7f6a7c8419e8>\n",
            "<__main__.MyAvg object at 0x7f6a7c841f60>\n"
          ],
          "name": "stdout"
        }
      ]
    },
    {
      "cell_type": "code",
      "metadata": {
        "ExecuteTime": {
          "end_time": "2017-11-24T10:48:34.719368",
          "start_time": "2017-11-24T10:48:34.715338"
        },
        "id": "nDoAC0cceDmk",
        "colab_type": "code",
        "colab": {
          "base_uri": "https://localhost:8080/",
          "height": 51
        },
        "outputId": "b2e5ae65-6c08-45de-9dd2-e818a4896c6f"
      },
      "source": [
        "# Imprima a variável compartilhada `id` de cada objeto a e b:\n",
        "print(a.id)\n",
        "print(b.id)"
      ],
      "execution_count": 85,
      "outputs": [
        {
          "output_type": "stream",
          "text": [
            "0.33\n",
            "0.33\n"
          ],
          "name": "stdout"
        }
      ]
    },
    {
      "cell_type": "markdown",
      "metadata": {
        "id": "w7xjqOkoeDmp",
        "colab_type": "text"
      },
      "source": [
        "## Herança de classe"
      ]
    },
    {
      "cell_type": "code",
      "metadata": {
        "ExecuteTime": {
          "end_time": "2017-11-24T10:48:34.724905",
          "start_time": "2017-11-24T10:48:34.721122"
        },
        "id": "jdTU51ureDmp",
        "colab_type": "code",
        "colab": {}
      },
      "source": [
        "class MyAvgStd(MyAvg):\n",
        "    def var(self): # método adicional para calcular a variância\n",
        "        u = self.avg()\n",
        "        return np.sqrt(np.sum((self.d - u)**2) / len(self.d))"
      ],
      "execution_count": 86,
      "outputs": []
    },
    {
      "cell_type": "code",
      "metadata": {
        "ExecuteTime": {
          "end_time": "2017-11-24T10:48:34.729387",
          "start_time": "2017-11-24T10:48:34.726655"
        },
        "id": "bJJfZIHTeDmr",
        "colab_type": "code",
        "colab": {}
      },
      "source": [
        "c = MyAvgStd(data)"
      ],
      "execution_count": 87,
      "outputs": []
    },
    {
      "cell_type": "code",
      "metadata": {
        "ExecuteTime": {
          "end_time": "2017-11-24T10:48:34.735547",
          "start_time": "2017-11-24T10:48:34.731136"
        },
        "id": "Befh0tMneDm1",
        "colab_type": "code",
        "colab": {
          "base_uri": "https://localhost:8080/",
          "height": 51
        },
        "outputId": "702915d5-c0a8-47b2-d391-a2517abdeb33"
      },
      "source": [
        "print('media:', c.avg())\n",
        "print('variancia:', c.var())"
      ],
      "execution_count": 88,
      "outputs": [
        {
          "output_type": "stream",
          "text": [
            "media: 92.83333333333333\n",
            "variancia: 129.294775180163\n"
          ],
          "name": "stdout"
        }
      ]
    },
    {
      "cell_type": "code",
      "metadata": {
        "ExecuteTime": {
          "end_time": "2017-11-24T10:48:34.739611",
          "start_time": "2017-11-24T10:48:34.737200"
        },
        "id": "Rm9z-qcfeDm4",
        "colab_type": "code",
        "colab": {
          "base_uri": "https://localhost:8080/",
          "height": 51
        },
        "outputId": "acb0a575-fead-47e5-a97c-13a4b94663f0"
      },
      "source": [
        "# imprima os dados associados ao objeto c e a sua variável compartilhada id\n",
        "print(c.d)\n",
        "print(c.id)"
      ],
      "execution_count": 89,
      "outputs": [
        {
          "output_type": "stream",
          "text": [
            "[ 13  63   5 378  58  40]\n",
            "0.33\n"
          ],
          "name": "stdout"
        }
      ]
    },
    {
      "cell_type": "markdown",
      "metadata": {
        "id": "CIIXBziCeDm6",
        "colab_type": "text"
      },
      "source": [
        "### Exercício: convertendo a função `split` na classe `C_Split`"
      ]
    },
    {
      "cell_type": "markdown",
      "metadata": {
        "id": "4CKNeNnWeDm7",
        "colab_type": "text"
      },
      "source": [
        "Implemente a classe `C_Split` para ter a mesma funcionalidade da função `split` feita no notebook de estudo de NumPy"
      ]
    },
    {
      "cell_type": "code",
      "metadata": {
        "ExecuteTime": {
          "end_time": "2017-11-24T10:48:34.744816",
          "start_time": "2017-11-24T10:48:34.741384"
        },
        "id": "mbFyWX-ueDm7",
        "colab_type": "code",
        "colab": {}
      },
      "source": [
        "class C_Split():\n",
        "    \n",
        "    def __init__(self,d):\n",
        "        self.dados =  d\n",
        "\n",
        "    def split(self, split_factor):\n",
        "        '''\n",
        "        divide a matriz dados em dois conjuntos:\n",
        "        matriz train: split_factor * n. de linhas de dados\n",
        "        matriz val: (1-split_factor) * n. de linhas de dados\n",
        "        parametros entrada:\n",
        "            dados: matriz de entrada\n",
        "            split_factor: entre 0. e 1. - fator de divisão em duas matrizes\n",
        "        parametros de saída:\n",
        "            train : matriz com as linhas iniciais de dados\n",
        "            val: matriz com as linhas restantes\n",
        "        '''\n",
        "        # Aproveitando código\n",
        "        train_sample_size = int( round(split_factor * self.dados.shape[0], 0) )\n",
        "        val_sample_size = int( round((1 - split_factor) * self.dados.shape[0], 0) )\n",
        "\n",
        "        train = self.dados[:train_sample_size,:]\n",
        "        val = self.dados[-val_sample_size:,:]\n",
        "\n",
        "        train, val\n",
        "\n",
        "        self.dados\n",
        "        return train, val\n"
      ],
      "execution_count": 90,
      "outputs": []
    },
    {
      "cell_type": "code",
      "metadata": {
        "ExecuteTime": {
          "end_time": "2017-11-24T10:48:34.749098",
          "start_time": "2017-11-24T10:48:34.746587"
        },
        "id": "QMynPis-eDm9",
        "colab_type": "code",
        "colab": {
          "base_uri": "https://localhost:8080/",
          "height": 187
        },
        "outputId": "68e46aff-4096-47dd-a0db-1d2d19b17048"
      },
      "source": [
        "aa = np.arange(90).reshape(10,9)\n",
        "data_train_val = C_Split(aa)\n",
        "train, val = data_train_val.split(0.8)\n",
        "print(train)\n",
        "print(val)"
      ],
      "execution_count": 91,
      "outputs": [
        {
          "output_type": "stream",
          "text": [
            "[[ 0  1  2  3  4  5  6  7  8]\n",
            " [ 9 10 11 12 13 14 15 16 17]\n",
            " [18 19 20 21 22 23 24 25 26]\n",
            " [27 28 29 30 31 32 33 34 35]\n",
            " [36 37 38 39 40 41 42 43 44]\n",
            " [45 46 47 48 49 50 51 52 53]\n",
            " [54 55 56 57 58 59 60 61 62]\n",
            " [63 64 65 66 67 68 69 70 71]]\n",
            "[[72 73 74 75 76 77 78 79 80]\n",
            " [81 82 83 84 85 86 87 88 89]]\n"
          ],
          "name": "stdout"
        }
      ]
    },
    {
      "cell_type": "markdown",
      "metadata": {
        "id": "-LpvGX0-eDm_",
        "colab_type": "text"
      },
      "source": [
        "## Classe com métodos `__len__` e `__getitem__`"
      ]
    },
    {
      "cell_type": "markdown",
      "metadata": {
        "id": "9hsO7GhVeDnA",
        "colab_type": "text"
      },
      "source": [
        "Uma classe com métodos `__len__` e `__getitem__` permite que os objetos possam ser indexados e calculado o seu número de elementos.\n",
        "\n",
        "Veja o exemplo a seguir:"
      ]
    },
    {
      "cell_type": "code",
      "metadata": {
        "ExecuteTime": {
          "end_time": "2017-11-24T10:48:34.755820",
          "start_time": "2017-11-24T10:48:34.750857"
        },
        "id": "Wgy_eIPQeDnA",
        "colab_type": "code",
        "colab": {}
      },
      "source": [
        "class Word():\n",
        "    def __init__(self, phrase):\n",
        "        self.wordlist = phrase.split() # separa frase em uma lista de palavras\n",
        "    \n",
        "    def __len__(self):\n",
        "        return len(self.wordlist)\n",
        "    \n",
        "    def __getitem__(self, x):\n",
        "        return self.wordlist[x]"
      ],
      "execution_count": 92,
      "outputs": []
    },
    {
      "cell_type": "code",
      "metadata": {
        "ExecuteTime": {
          "end_time": "2017-11-24T10:48:34.760433",
          "start_time": "2017-11-24T10:48:34.757750"
        },
        "id": "jpWIuM_NeDnC",
        "colab_type": "code",
        "colab": {}
      },
      "source": [
        "frase = 'Esta frase é formada por 7 palavras'\n",
        "palavras = Word(frase)"
      ],
      "execution_count": 93,
      "outputs": []
    },
    {
      "cell_type": "code",
      "metadata": {
        "ExecuteTime": {
          "end_time": "2017-11-24T10:48:34.766299",
          "start_time": "2017-11-24T10:48:34.762252"
        },
        "id": "wAZFJiKjeDnG",
        "colab_type": "code",
        "colab": {
          "base_uri": "https://localhost:8080/",
          "height": 35
        },
        "outputId": "26200239-eb90-41db-a359-39e6ffd2a7b3"
      },
      "source": [
        "palavras[3]  # permite a indexação do objeto"
      ],
      "execution_count": 94,
      "outputs": [
        {
          "output_type": "execute_result",
          "data": {
            "application/vnd.google.colaboratory.intrinsic+json": {
              "type": "string"
            },
            "text/plain": [
              "'formada'"
            ]
          },
          "metadata": {
            "tags": []
          },
          "execution_count": 94
        }
      ]
    },
    {
      "cell_type": "code",
      "metadata": {
        "ExecuteTime": {
          "end_time": "2017-11-24T10:48:34.771384",
          "start_time": "2017-11-24T10:48:34.767972"
        },
        "id": "N4o7SVgXeDnJ",
        "colab_type": "code",
        "colab": {
          "base_uri": "https://localhost:8080/",
          "height": 51
        },
        "outputId": "a006bdaa-0824-40cb-ddba-66a2db05f80b"
      },
      "source": [
        "print(len(palavras))\n",
        "print(palavras)"
      ],
      "execution_count": 95,
      "outputs": [
        {
          "output_type": "stream",
          "text": [
            "7\n",
            "<__main__.Word object at 0x7f6a7c85f390>\n"
          ],
          "name": "stdout"
        }
      ]
    },
    {
      "cell_type": "markdown",
      "metadata": {
        "id": "A0s0HmEveDnM",
        "colab_type": "text"
      },
      "source": [
        "### Exercício para indexar elementos de um dicionário"
      ]
    },
    {
      "cell_type": "markdown",
      "metadata": {
        "id": "MchgH8wyeDnN",
        "colab_type": "text"
      },
      "source": [
        "Um dicionário em Python não é indexado. Por exemplo seja o dicionário `d` a seguir.\n",
        "Não é possível indexar d[0] ou d[1] para buscar o primeiro ou segundo par (chave:valor)."
      ]
    },
    {
      "cell_type": "code",
      "metadata": {
        "ExecuteTime": {
          "end_time": "2017-11-24T10:48:34.775919",
          "start_time": "2017-11-24T10:48:34.773248"
        },
        "id": "ZpY9qKW9eDnO",
        "colab_type": "code",
        "colab": {}
      },
      "source": [
        "d = {'a':1, 'b': 2}"
      ],
      "execution_count": 96,
      "outputs": []
    },
    {
      "cell_type": "markdown",
      "metadata": {
        "id": "zv_89YgAeDnR",
        "colab_type": "text"
      },
      "source": [
        "Implementar uma classe que receba um dicionário e permita que ele possa ser indexado.\n",
        "Para converter um dicionário em uma lista de pares, use:"
      ]
    },
    {
      "cell_type": "code",
      "metadata": {
        "ExecuteTime": {
          "end_time": "2017-11-24T10:48:34.781948",
          "start_time": "2017-11-24T10:48:34.777863"
        },
        "id": "mCXqryogeDnR",
        "colab_type": "code",
        "colab": {
          "base_uri": "https://localhost:8080/",
          "height": 34
        },
        "outputId": "87f6261d-587f-4bec-9559-7aecdf6867b0"
      },
      "source": [
        "list(d.items())"
      ],
      "execution_count": 97,
      "outputs": [
        {
          "output_type": "execute_result",
          "data": {
            "text/plain": [
              "[('a', 1), ('b', 2)]"
            ]
          },
          "metadata": {
            "tags": []
          },
          "execution_count": 97
        }
      ]
    },
    {
      "cell_type": "markdown",
      "metadata": {
        "id": "Py64B0lPeDnU",
        "colab_type": "text"
      },
      "source": [
        "Complete a definição da classe `dicdata` a seguir para que um dicionário possa ser\n",
        "indexado:"
      ]
    },
    {
      "cell_type": "code",
      "metadata": {
        "ExecuteTime": {
          "end_time": "2017-11-24T10:48:34.788040",
          "start_time": "2017-11-24T10:48:34.783585"
        },
        "id": "ujOgm-GweDnU",
        "colab_type": "code",
        "colab": {}
      },
      "source": [
        "class DicData():\n",
        "    def __init__(self, dic):\n",
        "        self.dados = list(dic.items())\n",
        "\n",
        "    def __len__(self):\n",
        "        return len(self.dados)\n",
        "        \n",
        "    def __getitem__(self, x):\n",
        "        return self.dados[x]"
      ],
      "execution_count": 137,
      "outputs": []
    },
    {
      "cell_type": "code",
      "metadata": {
        "ExecuteTime": {
          "end_time": "2017-11-24T10:48:34.816082",
          "start_time": "2017-11-24T10:48:34.789694"
        },
        "id": "lAk2dnRYeDnW",
        "colab_type": "code",
        "colab": {
          "base_uri": "https://localhost:8080/",
          "height": 51
        },
        "outputId": "ce770d86-962e-412b-837a-68712e063d1e"
      },
      "source": [
        "dd = DicData(d)\n",
        "print(len(dd))\n",
        "print(dd[0])"
      ],
      "execution_count": 139,
      "outputs": [
        {
          "output_type": "stream",
          "text": [
            "3\n",
            "('a', 1)\n"
          ],
          "name": "stdout"
        }
      ]
    },
    {
      "cell_type": "markdown",
      "metadata": {
        "collapsed": true,
        "id": "voNSHOt2eDnY",
        "colab_type": "text"
      },
      "source": [
        "## Iteradores"
      ]
    },
    {
      "cell_type": "markdown",
      "metadata": {
        "id": "mzrK8WMLeDnY",
        "colab_type": "text"
      },
      "source": [
        "Iteradores são uteis para serem usados em estruturas do tipo `for a in b:`.\n",
        "\n",
        "Listas em Python são consideradas iteráveis, pois podem ser utilizadas nessa estrutura:"
      ]
    },
    {
      "cell_type": "code",
      "metadata": {
        "ExecuteTime": {
          "end_time": "2017-11-24T10:48:34.821690",
          "start_time": "2017-11-24T10:48:34.817887"
        },
        "id": "8LjRBBiZeDnY",
        "colab_type": "code",
        "colab": {
          "base_uri": "https://localhost:8080/",
          "height": 68
        },
        "outputId": "1e65e56a-56a5-40cd-c779-0f9a841fbcbc"
      },
      "source": [
        "for i in ['a', 'b', 'c']:\n",
        "    print(i)"
      ],
      "execution_count": 117,
      "outputs": [
        {
          "output_type": "stream",
          "text": [
            "a\n",
            "b\n",
            "c\n"
          ],
          "name": "stdout"
        }
      ]
    },
    {
      "cell_type": "markdown",
      "metadata": {
        "id": "4K5D6alneDna",
        "colab_type": "text"
      },
      "source": [
        "O método do `range()` do python também é um iterável:"
      ]
    },
    {
      "cell_type": "code",
      "metadata": {
        "ExecuteTime": {
          "end_time": "2017-11-24T10:48:34.827296",
          "start_time": "2017-11-24T10:48:34.823318"
        },
        "id": "1K5xdzE3eDna",
        "colab_type": "code",
        "colab": {
          "base_uri": "https://localhost:8080/",
          "height": 68
        },
        "outputId": "c9714d39-3ad1-4b61-eb86-e01cee4b3258"
      },
      "source": [
        "for i in range(3):\n",
        "    print(i)"
      ],
      "execution_count": 118,
      "outputs": [
        {
          "output_type": "stream",
          "text": [
            "0\n",
            "1\n",
            "2\n"
          ],
          "name": "stdout"
        }
      ]
    },
    {
      "cell_type": "markdown",
      "metadata": {
        "id": "JLHZEISpeDnc",
        "colab_type": "text"
      },
      "source": [
        "É possível acessar o iterador destas estruturas utilizando o método `iter()` do Python e então é possível percorrer seus elementos utilizado `next()`:"
      ]
    },
    {
      "cell_type": "code",
      "metadata": {
        "ExecuteTime": {
          "end_time": "2017-11-24T10:48:34.834575",
          "start_time": "2017-11-24T10:48:34.829061"
        },
        "id": "22Gp0N4GeDnc",
        "colab_type": "code",
        "colab": {
          "base_uri": "https://localhost:8080/",
          "height": 68
        },
        "outputId": "0a09f5b2-41c3-4a08-f25f-70d5cd627ab2"
      },
      "source": [
        "lista = ['a', 'b', 'c']\n",
        "iterador = iter(lista)\n",
        "print('tipo de iterador:', type(lista))\n",
        "print('tipo de iterador:', type(iterador))\n",
        "print(next(iterador))"
      ],
      "execution_count": 128,
      "outputs": [
        {
          "output_type": "stream",
          "text": [
            "tipo de iterador: <class 'list'>\n",
            "tipo de iterador: <class 'list_iterator'>\n",
            "a\n"
          ],
          "name": "stdout"
        }
      ]
    },
    {
      "cell_type": "markdown",
      "metadata": {
        "id": "SZEM37h8eDne",
        "colab_type": "text"
      },
      "source": [
        "O acesso de iteradores é sequencial e após o ultimo elemento uma exceção é levantada indicando o fim do iterador.\n",
        "Descomente o último `next` e veja o tipo da exceção que acontece."
      ]
    },
    {
      "cell_type": "code",
      "metadata": {
        "ExecuteTime": {
          "end_time": "2017-11-24T10:48:34.840458",
          "start_time": "2017-11-24T10:48:34.836436"
        },
        "id": "cUy0_ggZeDne",
        "colab_type": "code",
        "colab": {
          "base_uri": "https://localhost:8080/",
          "height": 232
        },
        "outputId": "d80ecdae-f481-4eda-b057-5a00b1e37a39"
      },
      "source": [
        "print(next(iterador))\n",
        "print(next(iterador))\n",
        "print(next(iterador))"
      ],
      "execution_count": 129,
      "outputs": [
        {
          "output_type": "stream",
          "text": [
            "b\n",
            "c\n"
          ],
          "name": "stdout"
        },
        {
          "output_type": "error",
          "ename": "StopIteration",
          "evalue": "ignored",
          "traceback": [
            "\u001b[0;31m---------------------------------------------------------------------------\u001b[0m",
            "\u001b[0;31mStopIteration\u001b[0m                             Traceback (most recent call last)",
            "\u001b[0;32m<ipython-input-129-9fe936a62e91>\u001b[0m in \u001b[0;36m<module>\u001b[0;34m()\u001b[0m\n\u001b[1;32m      1\u001b[0m \u001b[0mprint\u001b[0m\u001b[0;34m(\u001b[0m\u001b[0mnext\u001b[0m\u001b[0;34m(\u001b[0m\u001b[0miterador\u001b[0m\u001b[0;34m)\u001b[0m\u001b[0;34m)\u001b[0m\u001b[0;34m\u001b[0m\u001b[0;34m\u001b[0m\u001b[0m\n\u001b[1;32m      2\u001b[0m \u001b[0mprint\u001b[0m\u001b[0;34m(\u001b[0m\u001b[0mnext\u001b[0m\u001b[0;34m(\u001b[0m\u001b[0miterador\u001b[0m\u001b[0;34m)\u001b[0m\u001b[0;34m)\u001b[0m\u001b[0;34m\u001b[0m\u001b[0;34m\u001b[0m\u001b[0m\n\u001b[0;32m----> 3\u001b[0;31m \u001b[0mprint\u001b[0m\u001b[0;34m(\u001b[0m\u001b[0mnext\u001b[0m\u001b[0;34m(\u001b[0m\u001b[0miterador\u001b[0m\u001b[0;34m)\u001b[0m\u001b[0;34m)\u001b[0m\u001b[0;34m\u001b[0m\u001b[0;34m\u001b[0m\u001b[0m\n\u001b[0m",
            "\u001b[0;31mStopIteration\u001b[0m: "
          ]
        }
      ]
    },
    {
      "cell_type": "markdown",
      "metadata": {
        "id": "ESZISzi4eDnh",
        "colab_type": "text"
      },
      "source": [
        "## Criando objetos iteráveis"
      ]
    },
    {
      "cell_type": "markdown",
      "metadata": {
        "id": "cbcDSi3QeDnh",
        "colab_type": "text"
      },
      "source": [
        "Para implementar um objeto iterador é preciso escrever um método `__next__()` para a classe e para que ele seja acessível como iterável também é necessário escrever um método `__iter__()`: "
      ]
    },
    {
      "cell_type": "code",
      "metadata": {
        "ExecuteTime": {
          "end_time": "2017-11-24T10:48:34.848707",
          "start_time": "2017-11-24T10:48:34.842063"
        },
        "id": "F9S8AzoUeDni",
        "colab_type": "code",
        "colab": {}
      },
      "source": [
        "class WordIterator():\n",
        "    def __init__(self, phrase):\n",
        "        self.words = phrase.split()\n",
        "        \n",
        "    def __iter__(self):\n",
        "        self.iter_index = 0\n",
        "        return self\n",
        "    \n",
        "    def __next__(self):\n",
        "        if self.iter_index < len(self.words):\n",
        "            i = self.iter_index\n",
        "            self.iter_index += 1\n",
        "            return self.words[i]\n",
        "        else:\n",
        "            raise StopIteration()"
      ],
      "execution_count": 140,
      "outputs": []
    },
    {
      "cell_type": "markdown",
      "metadata": {
        "id": "-z2TtcJ8eDnj",
        "colab_type": "text"
      },
      "source": [
        "A classe acima é um iterador e é iterável. \n",
        "\n",
        "No método `__iter__()` reiniciamos o índice inicial para o iterador e retornamos o próprio objeto (um iterador).\n",
        "\n",
        "No método `__next__()` retornamos a palavra do índice atual ou a exceção de parada, caso seja o fim."
      ]
    },
    {
      "cell_type": "code",
      "metadata": {
        "ExecuteTime": {
          "end_time": "2017-11-24T10:48:34.853670",
          "start_time": "2017-11-24T10:48:34.850613"
        },
        "id": "Zlc02PCceDnk",
        "colab_type": "code",
        "colab": {}
      },
      "source": [
        "frase = 'Esta frase é formada por 7 palavras'\n",
        "iterador_de_palavras = WordIterator(frase)"
      ],
      "execution_count": 141,
      "outputs": []
    },
    {
      "cell_type": "code",
      "metadata": {
        "ExecuteTime": {
          "end_time": "2017-11-24T10:48:34.860627",
          "start_time": "2017-11-24T10:48:34.855389"
        },
        "id": "cKdwkmK7eDno",
        "colab_type": "code",
        "colab": {
          "base_uri": "https://localhost:8080/",
          "height": 136
        },
        "outputId": "dd23651d-8e27-405a-d208-3c74b6901c39"
      },
      "source": [
        "for palavra in iterador_de_palavras:\n",
        "    print(palavra)"
      ],
      "execution_count": 142,
      "outputs": [
        {
          "output_type": "stream",
          "text": [
            "Esta\n",
            "frase\n",
            "é\n",
            "formada\n",
            "por\n",
            "7\n",
            "palavras\n"
          ],
          "name": "stdout"
        }
      ]
    },
    {
      "cell_type": "markdown",
      "metadata": {
        "id": "jsjXwE8ZeDnq",
        "colab_type": "text"
      },
      "source": [
        "### Exercício com iterador"
      ]
    },
    {
      "cell_type": "markdown",
      "metadata": {
        "ExecuteTime": {
          "end_time": "2017-09-29T11:41:50.515551",
          "start_time": "2017-09-29T11:41:50.483441"
        },
        "id": "lp8QGKtkeDnr",
        "colab_type": "text"
      },
      "source": [
        "Crie uma classe `DictIterator` que permita varrer os itens de um dicionário utilizando o `for`"
      ]
    },
    {
      "cell_type": "code",
      "metadata": {
        "ExecuteTime": {
          "end_time": "2017-11-24T10:48:34.867197",
          "start_time": "2017-11-24T10:48:34.862428"
        },
        "id": "qsuRn9dgeDnt",
        "colab_type": "code",
        "colab": {}
      },
      "source": [
        "class DictIterator():\n",
        "    def __init__(self, dict):\n",
        "        self.list = list(dict.items())\n",
        "\n",
        "    def __iter__(self):\n",
        "        self.iter_index = 0\n",
        "        return self\n",
        "\n",
        "    def __next__(self):\n",
        "        if self.iter_index < len(self.list):\n",
        "          i = self.iter_index\n",
        "          self.iter_index += 1\n",
        "          return self.list[i]\n",
        "        else:\n",
        "            raise StopIteration() "
      ],
      "execution_count": 149,
      "outputs": []
    },
    {
      "cell_type": "code",
      "metadata": {
        "ExecuteTime": {
          "end_time": "2017-11-24T10:48:34.873303",
          "start_time": "2017-11-24T10:48:34.868889"
        },
        "id": "DTx6WmiSeDny",
        "colab_type": "code",
        "colab": {
          "base_uri": "https://localhost:8080/",
          "height": 68
        },
        "outputId": "03a1369e-b235-4658-df5f-93b8791dc4ff"
      },
      "source": [
        "d = {'a':1,'b': 2, 'c': 3}\n",
        "d_iter = DictIterator(d)\n",
        "for i in d_iter:\n",
        "    print(i)"
      ],
      "execution_count": 151,
      "outputs": [
        {
          "output_type": "stream",
          "text": [
            "('a', 1)\n",
            "('b', 2)\n",
            "('c', 3)\n"
          ],
          "name": "stdout"
        }
      ]
    },
    {
      "cell_type": "markdown",
      "metadata": {
        "id": "TXLOBPzjeDn0",
        "colab_type": "text"
      },
      "source": [
        "## Objeto como função"
      ]
    },
    {
      "cell_type": "markdown",
      "metadata": {
        "ExecuteTime": {
          "end_time": "2017-09-29T14:25:18.470914",
          "start_time": "2017-09-29T14:25:18.467088"
        },
        "id": "OWvazZ_DeDn0",
        "colab_type": "text"
      },
      "source": [
        "É possível declarar uma classe contendo um objeto possa ser chamado (*callable object*).\n",
        "Para isso, a classe deve conter o método `__call__`. Veja o exemplo a seguir:"
      ]
    },
    {
      "cell_type": "code",
      "metadata": {
        "ExecuteTime": {
          "end_time": "2017-11-24T10:48:34.878801",
          "start_time": "2017-11-24T10:48:34.875191"
        },
        "id": "F3t1URNLeDn2",
        "colab_type": "code",
        "colab": {}
      },
      "source": [
        "class Scale():\n",
        "    def __init__(self, w):\n",
        "        self._w = w\n",
        "    def __call__(self, x):\n",
        "        return x * self._w"
      ],
      "execution_count": 152,
      "outputs": []
    },
    {
      "cell_type": "code",
      "metadata": {
        "ExecuteTime": {
          "end_time": "2017-11-24T10:48:34.884098",
          "start_time": "2017-11-24T10:48:34.880506"
        },
        "id": "qKdj-WjUeDn4",
        "colab_type": "code",
        "colab": {
          "base_uri": "https://localhost:8080/",
          "height": 34
        },
        "outputId": "66c084c3-032a-4e31-b08b-269125d0ae1c"
      },
      "source": [
        "s = Scale(100.)\n",
        "print(s(5))\n"
      ],
      "execution_count": 153,
      "outputs": [
        {
          "output_type": "stream",
          "text": [
            "500.0\n"
          ],
          "name": "stdout"
        }
      ]
    },
    {
      "cell_type": "markdown",
      "metadata": {
        "id": "nXiYJKU-eDn6",
        "colab_type": "text"
      },
      "source": [
        "### Exercício de classe contendo objeto chamável"
      ]
    },
    {
      "cell_type": "markdown",
      "metadata": {
        "id": "kHKrHmCweDn7",
        "colab_type": "text"
      },
      "source": [
        "Defina uma classe herdada da classe `Scale` que permita modificar a variável `self._w`."
      ]
    },
    {
      "cell_type": "code",
      "metadata": {
        "ExecuteTime": {
          "end_time": "2017-11-24T10:48:34.888869",
          "start_time": "2017-11-24T10:48:34.885999"
        },
        "id": "9TITAfjFeDn7",
        "colab_type": "code",
        "colab": {}
      },
      "source": [
        "class AjustaPeso(Scale):\n",
        "    def wset(self, x):\n",
        "        return self._w + x"
      ],
      "execution_count": 171,
      "outputs": []
    },
    {
      "cell_type": "code",
      "metadata": {
        "ExecuteTime": {
          "end_time": "2017-11-24T10:48:34.894058",
          "start_time": "2017-11-24T10:48:34.890663"
        },
        "id": "lg61OOU6eDn9",
        "colab_type": "code",
        "colab": {
          "base_uri": "https://localhost:8080/",
          "height": 34
        },
        "outputId": "388601a7-3a46-47d3-89b1-2df428078293"
      },
      "source": [
        "ap = AjustaPeso(100.)\n",
        "print(ap(5))"
      ],
      "execution_count": 172,
      "outputs": [
        {
          "output_type": "stream",
          "text": [
            "500.0\n"
          ],
          "name": "stdout"
        }
      ]
    },
    {
      "cell_type": "code",
      "metadata": {
        "ExecuteTime": {
          "end_time": "2017-11-24T10:48:34.898077",
          "start_time": "2017-11-24T10:48:34.895632"
        },
        "id": "yt71I8GseDn_",
        "colab_type": "code",
        "colab": {
          "base_uri": "https://localhost:8080/",
          "height": 34
        },
        "outputId": "19bb8895-ff93-4bd6-86a3-a3366ccd6f0e"
      },
      "source": [
        "ap.wset(10)\n",
        "print(ap.wset(10))"
      ],
      "execution_count": 173,
      "outputs": [
        {
          "output_type": "stream",
          "text": [
            "110.0\n"
          ],
          "name": "stdout"
        }
      ]
    },
    {
      "cell_type": "code",
      "metadata": {
        "id": "KbNlZweYksKG",
        "colab_type": "code",
        "colab": {
          "base_uri": "https://localhost:8080/",
          "height": 51
        },
        "outputId": "f4fcd1dd-8215-4333-e7b4-aeb11ee4b882"
      },
      "source": [
        "test = AjustaPeso(80)\n",
        "print(test(1.4))\n",
        "print(test.wset(20))"
      ],
      "execution_count": 179,
      "outputs": [
        {
          "output_type": "stream",
          "text": [
            "112.0\n",
            "100\n"
          ],
          "name": "stdout"
        }
      ]
    },
    {
      "cell_type": "markdown",
      "metadata": {
        "id": "jXUvSuhceDoB",
        "colab_type": "text"
      },
      "source": [
        "# Fim do notebook"
      ]
    }
  ]
}